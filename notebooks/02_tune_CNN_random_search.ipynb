{
 "cells": [
  {
   "cell_type": "code",
   "execution_count": 115,
   "id": "075b3f44",
   "metadata": {
    "execution": {
     "iopub.execute_input": "2025-05-29T01:41:52.962049Z",
     "iopub.status.busy": "2025-05-29T01:41:52.961722Z",
     "iopub.status.idle": "2025-05-29T01:42:01.776869Z",
     "shell.execute_reply": "2025-05-29T01:42:01.776250Z"
    },
    "papermill": {
     "duration": 8.821196,
     "end_time": "2025-05-29T01:42:01.778418",
     "exception": false,
     "start_time": "2025-05-29T01:41:52.957222",
     "status": "completed"
    },
    "tags": []
   },
   "outputs": [],
   "source": [
    "# 📦 Стандартные библиотеки\n",
    "import os\n",
    "import json\n",
    "import random\n",
    "\n",
    "# 📊 Обработка и визуализация данных\n",
    "import numpy as np\n",
    "import pandas as pd\n",
    "import matplotlib.pyplot as plt\n",
    "import seaborn as sns\n",
    "import matplotlib.ticker as ticker\n",
    "\n",
    "# 🤖 Машинное обучение\n",
    "from sklearn.model_selection import train_test_split, KFold\n",
    "from sklearn.metrics import mean_squared_error, mean_absolute_error, r2_score\n",
    "\n",
    "# 🔥 PyTorch\n",
    "import torch\n",
    "import torch.nn as nn\n",
    "import torch.optim as optim\n",
    "from torch.utils.data import Dataset, DataLoader, TensorDataset\n",
    "\n",
    "# ⏳ Прогресс-бар\n",
    "from tqdm import tqdm\n"
   ]
  },
  {
   "cell_type": "code",
   "execution_count": 116,
   "id": "36fe4893",
   "metadata": {
    "execution": {
     "iopub.execute_input": "2025-05-29T01:42:01.784924Z",
     "iopub.status.busy": "2025-05-29T01:42:01.784278Z",
     "iopub.status.idle": "2025-05-29T01:42:01.892023Z",
     "shell.execute_reply": "2025-05-29T01:42:01.891077Z"
    },
    "papermill": {
     "duration": 0.111946,
     "end_time": "2025-05-29T01:42:01.893208",
     "exception": false,
     "start_time": "2025-05-29T01:42:01.781262",
     "status": "completed"
    },
    "tags": []
   },
   "outputs": [
    {
     "name": "stdout",
     "output_type": "stream",
     "text": [
      "🛠 Device: cpu\n"
     ]
    }
   ],
   "source": [
    "# ----------------------------\n",
    "# Device setup\n",
    "# ----------------------------\n",
    "device = torch.device(\"cuda\" if torch.cuda.is_available() else \"cpu\")\n",
    "print(f\"🛠 Device: {device}\")\n",
    "\n",
    "# ----------------------------\n",
    "# Paths setup\n",
    "# ----------------------------\n",
    "# DATA_PATH = \"/kaggle/input/windloading-train/WindLoading_Train.csv\"\n",
    "# SAVE_ROOT = \"/kaggle/working\"\n",
    "\n",
    "SAVE_ROOT = \"/mnt/d/projects/wind_pressure_prediction_CNN/experiments\"\n",
    "DATA_ROOT = \"/mnt/d/projects/wind_pressure_prediction_CNN\"\n",
    "\n",
    "TUNING_DIR = os.path.join(SAVE_ROOT, \"tuning_CNN\")  # адаптируй для CNN при необходимости\n",
    "LOG_CSV_PATH = os.path.join(SAVE_ROOT, \"experiments_log.csv\")\n",
    "\n",
    "os.makedirs(TUNING_DIR, exist_ok=True)\n",
    "\n",
    "# ----------------------------\n",
    "# Function to create a run-specific directory\n",
    "# ----------------------------\n",
    "def create_run_directory(\n",
    "    run_name=\"cnn\", lr=1e-3, batch_size=64, epochs=500,\n",
    "    activation_fn=None, optimizer_name=None, base_dir=TUNING_DIR\n",
    "):\n",
    "    run_id = f\"{run_name}_{lr:.0e}lr_{batch_size}bs_{epochs}ep\"\n",
    "    \n",
    "    if activation_fn is not None:\n",
    "        run_id += f\"_{activation_fn.__name__}\"\n",
    "    if optimizer_name is not None:\n",
    "        run_id += f\"_{optimizer_name}\"\n",
    "\n",
    "    run_dir = os.path.join(base_dir, run_id)\n",
    "    os.makedirs(run_dir, exist_ok=True)\n",
    "    print(f\"📂 Created run directory: {run_dir}\")\n",
    "    \n",
    "    return run_id, run_dir\n"
   ]
  },
  {
   "cell_type": "code",
   "execution_count": 117,
   "id": "fa494650",
   "metadata": {
    "execution": {
     "iopub.execute_input": "2025-05-29T01:42:01.920187Z",
     "iopub.status.busy": "2025-05-29T01:42:01.919536Z",
     "iopub.status.idle": "2025-05-29T01:42:01.924296Z",
     "shell.execute_reply": "2025-05-29T01:42:01.923605Z"
    },
    "papermill": {
     "duration": 0.008519,
     "end_time": "2025-05-29T01:42:01.925496",
     "exception": false,
     "start_time": "2025-05-29T01:42:01.916977",
     "status": "completed"
    },
    "tags": []
   },
   "outputs": [],
   "source": [
    "# ➤ Класс CNN-модели\n",
    "class WindPressureCNN(nn.Module):\n",
    "    def __init__(self, input_channels, filters, activation_fn, use_batchnorm):\n",
    "        super(WindPressureCNN, self).__init__()\n",
    "\n",
    "        layers = []\n",
    "        in_channels = input_channels\n",
    "        for out_channels in filters:\n",
    "            layers.append(nn.Conv2d(in_channels, out_channels, kernel_size=3, padding=1))\n",
    "            if use_batchnorm:\n",
    "                layers.append(nn.BatchNorm2d(out_channels))\n",
    "            layers.append(activation_fn())\n",
    "            in_channels = out_channels\n",
    "\n",
    "        self.encoder = nn.Sequential(*layers)\n",
    "\n",
    "        self.decoder = nn.Sequential(\n",
    "            nn.Conv2d(filters[-1], filters[-2], kernel_size=3, padding=1),\n",
    "            activation_fn(),\n",
    "            nn.Conv2d(filters[-2], 1, kernel_size=1)\n",
    "        )\n",
    "\n",
    "    def forward(self, x):\n",
    "        x = self.encoder(x)\n",
    "        x = self.decoder(x)\n",
    "        return x\n"
   ]
  },
  {
   "cell_type": "code",
   "execution_count": 118,
   "id": "faccbabc",
   "metadata": {
    "execution": {
     "iopub.execute_input": "2025-05-29T01:42:01.932078Z",
     "iopub.status.busy": "2025-05-29T01:42:01.931832Z",
     "iopub.status.idle": "2025-05-29T01:42:01.947794Z",
     "shell.execute_reply": "2025-05-29T01:42:01.947227Z"
    },
    "papermill": {
     "duration": 0.020303,
     "end_time": "2025-05-29T01:42:01.948848",
     "exception": false,
     "start_time": "2025-05-29T01:42:01.928545",
     "status": "completed"
    },
    "tags": []
   },
   "outputs": [],
   "source": [
    "# ➤ Пользовательский Dataset\n",
    "class WindGridDataset(Dataset):\n",
    "    def __init__(self, X_tensor, Y_tensor):\n",
    "        self.X = X_tensor\n",
    "        self.Y = Y_tensor\n",
    "\n",
    "    def __len__(self):\n",
    "        return self.X.shape[0]\n",
    "\n",
    "    def __getitem__(self, idx):\n",
    "        return self.X[idx], self.Y[idx]\n",
    "\n",
    "# ➤ Оценка\n",
    "def evaluate_regression(y_true, y_pred):\n",
    "    y_true = y_true.detach().cpu().numpy().reshape(-1)\n",
    "    y_pred = y_pred.detach().cpu().numpy().reshape(-1)\n",
    "    mask = ~np.isnan(y_true) & ~np.isnan(y_pred)\n",
    "    return {\n",
    "        \"MSE\": mean_squared_error(y_true[mask], y_pred[mask]),\n",
    "        \"MAE\": mean_absolute_error(y_true[mask], y_pred[mask]),\n",
    "        \"R2\": r2_score(y_true[mask], y_pred[mask])\n",
    "    }\n",
    "\n",
    "# ➤ Основная функция\n",
    "def train_cnn(\n",
    "    lr,\n",
    "    batch_size,\n",
    "    epochs,\n",
    "    input_channels,\n",
    "    activation_fn,\n",
    "    optimizer_name,\n",
    "    loss_fn,\n",
    "    filters,\n",
    "    use_batchnorm\n",
    "    ):\n",
    "    # Загружаем данные\n",
    "    X_all = np.load(os.path.join(\n",
    "    DATA_ROOT, \"data\", \"processed\", \"cnn_input\", \"X_cnn.npy\"\n",
    "    ))\n",
    "    Y_all = np.load(os.path.join(\n",
    "    DATA_ROOT, \"data\", \"processed\", \"cnn_input\", \"Y_cnn.npy\"\n",
    "    ))\n",
    "\n",
    "    X_tensor = torch.tensor(X_all, dtype=torch.float32).to(device)\n",
    "    Y_tensor = torch.tensor(Y_all, dtype=torch.float32).to(device)\n",
    "    print(\"X_all shape:\", X_all.shape)\n",
    "    print(\"Y_all shape:\", Y_all.shape)\n",
    "\n",
    "    n_splits = 2\n",
    "    kf = KFold(n_splits=n_splits, shuffle=True, random_state=42)\n",
    "    fold_metrics = []\n",
    "\n",
    "    for fold, (train_idx, val_idx) in enumerate(kf.split(X_tensor)):\n",
    "        print(f\"\\n🔁 Fold {fold + 1} / {n_splits}\")\n",
    "\n",
    "        model = WindPressureCNN(\n",
    "            input_channels=input_channels,\n",
    "            filters=filters,\n",
    "            activation_fn=activation_fn,\n",
    "            use_batchnorm=use_batchnorm\n",
    "        ).to(device)\n",
    "\n",
    "        # Инициализируем функцию потерь\n",
    "        criterion = loss_fn()\n",
    "\n",
    "        # Инициализируем оптимизатор\n",
    "        if optimizer_name == \"Adam\":\n",
    "            optimizer = optim.Adam(model.parameters(), lr=lr)\n",
    "        elif optimizer_name == \"SGD\":\n",
    "            optimizer = optim.SGD(model.parameters(), lr=lr, momentum=0.9)\n",
    "        else:\n",
    "            raise ValueError(f\"Unsupported optimizer: {optimizer_name}\")\n",
    "\n",
    "        # Датасеты и загрузчики\n",
    "        train_dataset = WindGridDataset(X_tensor[train_idx], Y_tensor[train_idx])\n",
    "        val_dataset   = WindGridDataset(X_tensor[val_idx],   Y_tensor[val_idx])\n",
    "        train_loader = DataLoader(train_dataset, batch_size=batch_size, shuffle=True)\n",
    "        val_loader   = DataLoader(val_dataset, batch_size=batch_size)\n",
    "\n",
    "        best_loss = float(\"inf\")\n",
    "        patience = 100\n",
    "        counter = 0\n",
    "\n",
    "        for epoch in tqdm(range(epochs), desc=\"Epochs\"):\n",
    "            model.train()\n",
    "            epoch_loss = 0.0\n",
    "            for batch_X, batch_Y in train_loader:\n",
    "                optimizer.zero_grad()\n",
    "                outputs = model(batch_X)\n",
    "                loss = criterion(outputs, batch_Y)\n",
    "                loss.backward()\n",
    "                optimizer.step()\n",
    "                epoch_loss += loss.item()\n",
    "\n",
    "            # ➤ Оцениваем метрики каждые 20 эпох\n",
    "            if (epoch + 1) % 20 == 0 or epoch == 0 or epoch == epochs - 1:\n",
    "                model.eval()\n",
    "                with torch.no_grad():\n",
    "                    y_val_pred = model(X_tensor[val_idx])\n",
    "                    epoch_metrics = evaluate_regression(Y_tensor[val_idx], y_val_pred)\n",
    "                    print(f\"📉 Epoch {epoch + 1} | Train Loss: {epoch_loss:.6f} | \"\n",
    "                        f\"Val R2: {epoch_metrics['R2']:.4f} | \"\n",
    "                        f\"MAE: {epoch_metrics['MAE']:.4f} | \"\n",
    "                        f\"MSE: {epoch_metrics['MSE']:.6f}\")\n",
    "\n",
    "\n",
    "            # Early stopping\n",
    "            val_loss = 0.0\n",
    "            model.eval()\n",
    "            with torch.no_grad():\n",
    "                for batch_X, batch_Y in val_loader:\n",
    "                    outputs = model(batch_X)\n",
    "                    loss = criterion(outputs, batch_Y)\n",
    "                    val_loss += loss.item()\n",
    "\n",
    "            if val_loss < best_loss:\n",
    "                best_loss = val_loss\n",
    "                counter = 0\n",
    "            else:\n",
    "                counter += 1\n",
    "                if counter >= patience:\n",
    "                    print(\"⏹️ Early stopping\")\n",
    "                    break\n",
    "\n",
    "        # ➤ Оценка на валидации\n",
    "        model.eval()\n",
    "        with torch.no_grad():\n",
    "            y_pred = model(X_tensor[val_idx])\n",
    "            metrics = evaluate_regression(Y_tensor[val_idx], y_pred)\n",
    "            fold_metrics.append(metrics)\n",
    "            print(f\"📈 Fold {fold + 1} metrics:\", metrics)\n",
    "\n",
    "    # ➤ Средние метрики\n",
    "    avg_metrics = {\n",
    "        \"MSE\": np.mean([m[\"MSE\"] for m in fold_metrics]),\n",
    "        \"MAE\": np.mean([m[\"MAE\"] for m in fold_metrics]),\n",
    "        \"R2\":  np.mean([m[\"R2\"]  for m in fold_metrics]),\n",
    "    }\n",
    "\n",
    "    # ➤ Сохраняем конфиг и лог\n",
    "    run_id, run_dir = create_run_directory(run_name=\"cnn\", lr=lr, batch_size=batch_size, epochs=epochs)\n",
    "    config = {\n",
    "    \"model\": \"CNN\",\n",
    "    \"lr\": lr,\n",
    "    \"batch_size\": batch_size,\n",
    "    \"epochs\": epochs,\n",
    "    \"input_channels\": input_channels,\n",
    "    \"activation_fn\": activation_fn.__name__,\n",
    "    \"optimizer\": optimizer_name,\n",
    "    \"loss_fn\": loss_fn.__name__,\n",
    "    \"filters\": filters,\n",
    "    \"batchnorm\": use_batchnorm,\n",
    "    \"target_shape\": \"1x9x28\"\n",
    "    }\n",
    "\n",
    "    # ➤ Путь к директории для лучшей модели\n",
    "    BEST_MODEL_DIR = os.path.join(SAVE_ROOT, \"best_model\")\n",
    "    os.makedirs(BEST_MODEL_DIR, exist_ok=True)  # создаём, если нет\n",
    "\n",
    "    # ➤ Полный путь к файлу весов\n",
    "    MODEL_SAVE_PATH = os.path.join(BEST_MODEL_DIR, f\"best_{run_id}.pth\")\n",
    "\n",
    "    # ➤ Сохраняем веса модели, если R² выше порога\n",
    "    if avg_metrics[\"R2\"] > 0.2:\n",
    "        torch.save(model.state_dict(), MODEL_SAVE_PATH)\n",
    "        print(f\"💾 Saved best model weights to {MODEL_SAVE_PATH}\")\n",
    "\n",
    "\n",
    "    with open(os.path.join(run_dir, f\"config_{run_id}.json\"), \"w\") as f:\n",
    "        json.dump(config, f, indent=4)\n",
    "\n",
    "    log_header = \"run_id,model,lr,batch_size,activation_fn,optimizer,R2,MAE,MSE\\n\"\n",
    "    log_line = (\n",
    "    f\"{run_id},cnn,{lr:.0e},{batch_size},\"\n",
    "    f\"{activation_fn.__name__},{optimizer_name},\"\n",
    "    f\"{float(avg_metrics['R2']):.4f},\"\n",
    "    f\"{float(avg_metrics['MAE']):.4f},\"\n",
    "    f\"{float(avg_metrics['MSE']):.6f}\\n\"\n",
    "    )\n",
    "\n",
    "\n",
    "    write_header = not os.path.exists(LOG_CSV_PATH)\n",
    "\n",
    "    with open(LOG_CSV_PATH, \"a\") as f:\n",
    "        if write_header:\n",
    "            f.write(log_header)\n",
    "        f.write(log_line)\n",
    "    \n",
    "\n",
    "    print(\"\\n📊 Avg Metrics across 5 folds:\", {\n",
    "    \"MSE\": float(avg_metrics[\"MSE\"]),\n",
    "    \"MAE\": float(avg_metrics[\"MAE\"]),\n",
    "    \"R2\":  float(avg_metrics[\"R2\"])\n",
    "    })\n",
    "    return run_id, avg_metrics\n"
   ]
  },
  {
   "cell_type": "code",
   "execution_count": 119,
   "id": "2890f182",
   "metadata": {
    "execution": {
     "iopub.execute_input": "2025-05-29T01:42:01.953948Z",
     "iopub.status.busy": "2025-05-29T01:42:01.953715Z",
     "iopub.status.idle": "2025-05-29T03:01:38.958140Z",
     "shell.execute_reply": "2025-05-29T03:01:38.957362Z"
    },
    "papermill": {
     "duration": 4777.008125,
     "end_time": "2025-05-29T03:01:38.959230",
     "exception": false,
     "start_time": "2025-05-29T01:42:01.951105",
     "status": "completed"
    },
    "tags": []
   },
   "outputs": [
    {
     "name": "stdout",
     "output_type": "stream",
     "text": [
      "\n",
      "🔁 Run 1/5\n",
      "→ lr: 0.003, batch_size: 64, epochs: 1000\n",
      "→ activation: Tanh, optimizer: Adam, loss_fn: MSELoss\n",
      "→ filters: [16, 32, 64], batchnorm: True\n",
      "X_all shape: (608, 3, 9, 28)\n",
      "Y_all shape: (608, 1, 9, 28)\n",
      "\n",
      "🔁 Fold 1 / 2\n"
     ]
    },
    {
     "name": "stderr",
     "output_type": "stream",
     "text": [
      "Epochs:   0%|          | 0/1000 [00:00<?, ?it/s]"
     ]
    },
    {
     "name": "stdout",
     "output_type": "stream",
     "text": [
      "📉 Epoch 1 | Train Loss: 3.055838 | Val R2: -0.0888 | MAE: 0.4232 | MSE: 0.270306\n"
     ]
    },
    {
     "name": "stderr",
     "output_type": "stream",
     "text": [
      "Epochs:   2%|▏         | 19/1000 [00:14<13:20,  1.23it/s]"
     ]
    },
    {
     "name": "stdout",
     "output_type": "stream",
     "text": [
      "📉 Epoch 20 | Train Loss: 1.004255 | Val R2: 0.1702 | MAE: 0.3557 | MSE: 0.206006\n"
     ]
    },
    {
     "name": "stderr",
     "output_type": "stream",
     "text": [
      "Epochs:   4%|▍         | 40/1000 [00:27<08:47,  1.82it/s]"
     ]
    },
    {
     "name": "stdout",
     "output_type": "stream",
     "text": [
      "📉 Epoch 40 | Train Loss: 0.955709 | Val R2: 0.2291 | MAE: 0.3401 | MSE: 0.191392\n"
     ]
    },
    {
     "name": "stderr",
     "output_type": "stream",
     "text": [
      "Epochs:   6%|▌         | 60/1000 [00:37<08:37,  1.82it/s]"
     ]
    },
    {
     "name": "stdout",
     "output_type": "stream",
     "text": [
      "📉 Epoch 60 | Train Loss: 0.938067 | Val R2: 0.2384 | MAE: 0.3267 | MSE: 0.189064\n"
     ]
    },
    {
     "name": "stderr",
     "output_type": "stream",
     "text": [
      "Epochs:   8%|▊         | 80/1000 [00:48<08:14,  1.86it/s]"
     ]
    },
    {
     "name": "stdout",
     "output_type": "stream",
     "text": [
      "📉 Epoch 80 | Train Loss: 0.953705 | Val R2: 0.2359 | MAE: 0.3257 | MSE: 0.189697\n"
     ]
    },
    {
     "name": "stderr",
     "output_type": "stream",
     "text": [
      "Epochs:  10%|█         | 100/1000 [00:59<09:49,  1.53it/s]"
     ]
    },
    {
     "name": "stdout",
     "output_type": "stream",
     "text": [
      "📉 Epoch 100 | Train Loss: 0.940420 | Val R2: 0.2447 | MAE: 0.3308 | MSE: 0.187505\n"
     ]
    },
    {
     "name": "stderr",
     "output_type": "stream",
     "text": [
      "Epochs:  12%|█▏        | 120/1000 [01:10<09:06,  1.61it/s]"
     ]
    },
    {
     "name": "stdout",
     "output_type": "stream",
     "text": [
      "📉 Epoch 120 | Train Loss: 0.933339 | Val R2: 0.2486 | MAE: 0.3230 | MSE: 0.186551\n"
     ]
    },
    {
     "name": "stderr",
     "output_type": "stream",
     "text": [
      "Epochs:  13%|█▎        | 127/1000 [01:16<08:43,  1.67it/s]\n"
     ]
    },
    {
     "ename": "KeyboardInterrupt",
     "evalue": "",
     "output_type": "error",
     "traceback": [
      "\u001b[31m---------------------------------------------------------------------------\u001b[39m",
      "\u001b[31mKeyboardInterrupt\u001b[39m                         Traceback (most recent call last)",
      "\u001b[36mCell\u001b[39m\u001b[36m \u001b[39m\u001b[32mIn[119]\u001b[39m\u001b[32m, line 51\u001b[39m\n\u001b[32m     48\u001b[39m \u001b[38;5;28mprint\u001b[39m(\u001b[33mf\u001b[39m\u001b[33m\"\u001b[39m\u001b[33m→ activation: \u001b[39m\u001b[38;5;132;01m{\u001b[39;00mactivation_fn.\u001b[34m__name__\u001b[39m\u001b[38;5;132;01m}\u001b[39;00m\u001b[33m, optimizer: \u001b[39m\u001b[38;5;132;01m{\u001b[39;00moptimizer_name\u001b[38;5;132;01m}\u001b[39;00m\u001b[33m, loss_fn: \u001b[39m\u001b[38;5;132;01m{\u001b[39;00mloss_fn.\u001b[34m__name__\u001b[39m\u001b[38;5;132;01m}\u001b[39;00m\u001b[33m\"\u001b[39m)\n\u001b[32m     49\u001b[39m \u001b[38;5;28mprint\u001b[39m(\u001b[33mf\u001b[39m\u001b[33m\"\u001b[39m\u001b[33m→ filters: \u001b[39m\u001b[38;5;132;01m{\u001b[39;00mfilters\u001b[38;5;132;01m}\u001b[39;00m\u001b[33m, batchnorm: \u001b[39m\u001b[38;5;132;01m{\u001b[39;00muse_batchnorm\u001b[38;5;132;01m}\u001b[39;00m\u001b[33m\"\u001b[39m)\n\u001b[32m---> \u001b[39m\u001b[32m51\u001b[39m run_id, metrics = \u001b[43mtrain_cnn\u001b[49m\u001b[43m(\u001b[49m\n\u001b[32m     52\u001b[39m \u001b[43m    \u001b[49m\u001b[43mlr\u001b[49m\u001b[43m=\u001b[49m\u001b[43mlr\u001b[49m\u001b[43m,\u001b[49m\n\u001b[32m     53\u001b[39m \u001b[43m    \u001b[49m\u001b[43mbatch_size\u001b[49m\u001b[43m=\u001b[49m\u001b[43mbatch_size\u001b[49m\u001b[43m,\u001b[49m\n\u001b[32m     54\u001b[39m \u001b[43m    \u001b[49m\u001b[43mepochs\u001b[49m\u001b[43m=\u001b[49m\u001b[43mepochs\u001b[49m\u001b[43m,\u001b[49m\n\u001b[32m     55\u001b[39m \u001b[43m    \u001b[49m\u001b[43minput_channels\u001b[49m\u001b[43m=\u001b[49m\u001b[32;43m3\u001b[39;49m\u001b[43m,\u001b[49m\n\u001b[32m     56\u001b[39m \u001b[43m    \u001b[49m\u001b[43mactivation_fn\u001b[49m\u001b[43m=\u001b[49m\u001b[43mactivation_fn\u001b[49m\u001b[43m,\u001b[49m\n\u001b[32m     57\u001b[39m \u001b[43m    \u001b[49m\u001b[43moptimizer_name\u001b[49m\u001b[43m=\u001b[49m\u001b[43moptimizer_name\u001b[49m\u001b[43m,\u001b[49m\n\u001b[32m     58\u001b[39m \u001b[43m    \u001b[49m\u001b[43mloss_fn\u001b[49m\u001b[43m=\u001b[49m\u001b[43mloss_fn\u001b[49m\u001b[43m,\u001b[49m\n\u001b[32m     59\u001b[39m \u001b[43m    \u001b[49m\u001b[43mfilters\u001b[49m\u001b[43m=\u001b[49m\u001b[43mfilters\u001b[49m\u001b[43m,\u001b[49m\n\u001b[32m     60\u001b[39m \u001b[43m    \u001b[49m\u001b[43muse_batchnorm\u001b[49m\u001b[43m=\u001b[49m\u001b[43muse_batchnorm\u001b[49m\n\u001b[32m     61\u001b[39m \u001b[43m\u001b[49m\u001b[43m)\u001b[49m\n\u001b[32m     63\u001b[39m \u001b[38;5;28mprint\u001b[39m(\u001b[33mf\u001b[39m\u001b[33m\"\u001b[39m\u001b[33m✅ Finished run \u001b[39m\u001b[38;5;132;01m{\u001b[39;00mrun_id\u001b[38;5;132;01m}\u001b[39;00m\u001b[33m\"\u001b[39m)\n\u001b[32m     64\u001b[39m \u001b[38;5;28mprint\u001b[39m(\u001b[33mf\u001b[39m\u001b[33m\"\u001b[39m\u001b[33m📊 Metrics: \u001b[39m\u001b[38;5;130;01m{{\u001b[39;00m\u001b[33m'\u001b[39m\u001b[33mMSE\u001b[39m\u001b[33m'\u001b[39m\u001b[33m: \u001b[39m\u001b[38;5;132;01m{\u001b[39;00m\u001b[38;5;28mfloat\u001b[39m(metrics[\u001b[33m'\u001b[39m\u001b[33mMSE\u001b[39m\u001b[33m'\u001b[39m])\u001b[38;5;132;01m:\u001b[39;00m\u001b[33m.6f\u001b[39m\u001b[38;5;132;01m}\u001b[39;00m\u001b[33m, \u001b[39m\u001b[33m'\u001b[39m\u001b[33mMAE\u001b[39m\u001b[33m'\u001b[39m\u001b[33m: \u001b[39m\u001b[38;5;132;01m{\u001b[39;00m\u001b[38;5;28mfloat\u001b[39m(metrics[\u001b[33m'\u001b[39m\u001b[33mMAE\u001b[39m\u001b[33m'\u001b[39m])\u001b[38;5;132;01m:\u001b[39;00m\u001b[33m.6f\u001b[39m\u001b[38;5;132;01m}\u001b[39;00m\u001b[33m, \u001b[39m\u001b[33m'\u001b[39m\u001b[33mR2\u001b[39m\u001b[33m'\u001b[39m\u001b[33m: \u001b[39m\u001b[38;5;132;01m{\u001b[39;00m\u001b[38;5;28mfloat\u001b[39m(metrics[\u001b[33m'\u001b[39m\u001b[33mR2\u001b[39m\u001b[33m'\u001b[39m])\u001b[38;5;132;01m:\u001b[39;00m\u001b[33m.4f\u001b[39m\u001b[38;5;130;01m}}\u001b[39;00m\u001b[38;5;132;01m}\u001b[39;00m\u001b[33m\"\u001b[39m)\n",
      "\u001b[36mCell\u001b[39m\u001b[36m \u001b[39m\u001b[32mIn[118]\u001b[39m\u001b[32m, line 112\u001b[39m, in \u001b[36mtrain_cnn\u001b[39m\u001b[34m(lr, batch_size, epochs, input_channels, activation_fn, optimizer_name, loss_fn, filters, use_batchnorm)\u001b[39m\n\u001b[32m    110\u001b[39m \u001b[38;5;28;01mwith\u001b[39;00m torch.no_grad():\n\u001b[32m    111\u001b[39m     \u001b[38;5;28;01mfor\u001b[39;00m batch_X, batch_Y \u001b[38;5;129;01min\u001b[39;00m val_loader:\n\u001b[32m--> \u001b[39m\u001b[32m112\u001b[39m         outputs = \u001b[43mmodel\u001b[49m\u001b[43m(\u001b[49m\u001b[43mbatch_X\u001b[49m\u001b[43m)\u001b[49m\n\u001b[32m    113\u001b[39m         loss = criterion(outputs, batch_Y)\n\u001b[32m    114\u001b[39m         val_loss += loss.item()\n",
      "\u001b[36mFile \u001b[39m\u001b[32m/mnt/d/projects/wind_pressure_prediction_CNN/environment/linux_wpp_cnn/lib/python3.12/site-packages/torch/nn/modules/module.py:1751\u001b[39m, in \u001b[36mModule._wrapped_call_impl\u001b[39m\u001b[34m(self, *args, **kwargs)\u001b[39m\n\u001b[32m   1749\u001b[39m     \u001b[38;5;28;01mreturn\u001b[39;00m \u001b[38;5;28mself\u001b[39m._compiled_call_impl(*args, **kwargs)  \u001b[38;5;66;03m# type: ignore[misc]\u001b[39;00m\n\u001b[32m   1750\u001b[39m \u001b[38;5;28;01melse\u001b[39;00m:\n\u001b[32m-> \u001b[39m\u001b[32m1751\u001b[39m     \u001b[38;5;28;01mreturn\u001b[39;00m \u001b[38;5;28;43mself\u001b[39;49m\u001b[43m.\u001b[49m\u001b[43m_call_impl\u001b[49m\u001b[43m(\u001b[49m\u001b[43m*\u001b[49m\u001b[43margs\u001b[49m\u001b[43m,\u001b[49m\u001b[43m \u001b[49m\u001b[43m*\u001b[49m\u001b[43m*\u001b[49m\u001b[43mkwargs\u001b[49m\u001b[43m)\u001b[49m\n",
      "\u001b[36mFile \u001b[39m\u001b[32m/mnt/d/projects/wind_pressure_prediction_CNN/environment/linux_wpp_cnn/lib/python3.12/site-packages/torch/nn/modules/module.py:1762\u001b[39m, in \u001b[36mModule._call_impl\u001b[39m\u001b[34m(self, *args, **kwargs)\u001b[39m\n\u001b[32m   1757\u001b[39m \u001b[38;5;66;03m# If we don't have any hooks, we want to skip the rest of the logic in\u001b[39;00m\n\u001b[32m   1758\u001b[39m \u001b[38;5;66;03m# this function, and just call forward.\u001b[39;00m\n\u001b[32m   1759\u001b[39m \u001b[38;5;28;01mif\u001b[39;00m \u001b[38;5;129;01mnot\u001b[39;00m (\u001b[38;5;28mself\u001b[39m._backward_hooks \u001b[38;5;129;01mor\u001b[39;00m \u001b[38;5;28mself\u001b[39m._backward_pre_hooks \u001b[38;5;129;01mor\u001b[39;00m \u001b[38;5;28mself\u001b[39m._forward_hooks \u001b[38;5;129;01mor\u001b[39;00m \u001b[38;5;28mself\u001b[39m._forward_pre_hooks\n\u001b[32m   1760\u001b[39m         \u001b[38;5;129;01mor\u001b[39;00m _global_backward_pre_hooks \u001b[38;5;129;01mor\u001b[39;00m _global_backward_hooks\n\u001b[32m   1761\u001b[39m         \u001b[38;5;129;01mor\u001b[39;00m _global_forward_hooks \u001b[38;5;129;01mor\u001b[39;00m _global_forward_pre_hooks):\n\u001b[32m-> \u001b[39m\u001b[32m1762\u001b[39m     \u001b[38;5;28;01mreturn\u001b[39;00m \u001b[43mforward_call\u001b[49m\u001b[43m(\u001b[49m\u001b[43m*\u001b[49m\u001b[43margs\u001b[49m\u001b[43m,\u001b[49m\u001b[43m \u001b[49m\u001b[43m*\u001b[49m\u001b[43m*\u001b[49m\u001b[43mkwargs\u001b[49m\u001b[43m)\u001b[49m\n\u001b[32m   1764\u001b[39m result = \u001b[38;5;28;01mNone\u001b[39;00m\n\u001b[32m   1765\u001b[39m called_always_called_hooks = \u001b[38;5;28mset\u001b[39m()\n",
      "\u001b[36mCell\u001b[39m\u001b[36m \u001b[39m\u001b[32mIn[117]\u001b[39m\u001b[32m, line 24\u001b[39m, in \u001b[36mWindPressureCNN.forward\u001b[39m\u001b[34m(self, x)\u001b[39m\n\u001b[32m     23\u001b[39m \u001b[38;5;28;01mdef\u001b[39;00m\u001b[38;5;250m \u001b[39m\u001b[34mforward\u001b[39m(\u001b[38;5;28mself\u001b[39m, x):\n\u001b[32m---> \u001b[39m\u001b[32m24\u001b[39m     x = \u001b[38;5;28;43mself\u001b[39;49m\u001b[43m.\u001b[49m\u001b[43mencoder\u001b[49m\u001b[43m(\u001b[49m\u001b[43mx\u001b[49m\u001b[43m)\u001b[49m\n\u001b[32m     25\u001b[39m     x = \u001b[38;5;28mself\u001b[39m.decoder(x)\n\u001b[32m     26\u001b[39m     \u001b[38;5;28;01mreturn\u001b[39;00m x\n",
      "\u001b[36mFile \u001b[39m\u001b[32m/mnt/d/projects/wind_pressure_prediction_CNN/environment/linux_wpp_cnn/lib/python3.12/site-packages/torch/nn/modules/module.py:1751\u001b[39m, in \u001b[36mModule._wrapped_call_impl\u001b[39m\u001b[34m(self, *args, **kwargs)\u001b[39m\n\u001b[32m   1749\u001b[39m     \u001b[38;5;28;01mreturn\u001b[39;00m \u001b[38;5;28mself\u001b[39m._compiled_call_impl(*args, **kwargs)  \u001b[38;5;66;03m# type: ignore[misc]\u001b[39;00m\n\u001b[32m   1750\u001b[39m \u001b[38;5;28;01melse\u001b[39;00m:\n\u001b[32m-> \u001b[39m\u001b[32m1751\u001b[39m     \u001b[38;5;28;01mreturn\u001b[39;00m \u001b[38;5;28;43mself\u001b[39;49m\u001b[43m.\u001b[49m\u001b[43m_call_impl\u001b[49m\u001b[43m(\u001b[49m\u001b[43m*\u001b[49m\u001b[43margs\u001b[49m\u001b[43m,\u001b[49m\u001b[43m \u001b[49m\u001b[43m*\u001b[49m\u001b[43m*\u001b[49m\u001b[43mkwargs\u001b[49m\u001b[43m)\u001b[49m\n",
      "\u001b[36mFile \u001b[39m\u001b[32m/mnt/d/projects/wind_pressure_prediction_CNN/environment/linux_wpp_cnn/lib/python3.12/site-packages/torch/nn/modules/module.py:1762\u001b[39m, in \u001b[36mModule._call_impl\u001b[39m\u001b[34m(self, *args, **kwargs)\u001b[39m\n\u001b[32m   1757\u001b[39m \u001b[38;5;66;03m# If we don't have any hooks, we want to skip the rest of the logic in\u001b[39;00m\n\u001b[32m   1758\u001b[39m \u001b[38;5;66;03m# this function, and just call forward.\u001b[39;00m\n\u001b[32m   1759\u001b[39m \u001b[38;5;28;01mif\u001b[39;00m \u001b[38;5;129;01mnot\u001b[39;00m (\u001b[38;5;28mself\u001b[39m._backward_hooks \u001b[38;5;129;01mor\u001b[39;00m \u001b[38;5;28mself\u001b[39m._backward_pre_hooks \u001b[38;5;129;01mor\u001b[39;00m \u001b[38;5;28mself\u001b[39m._forward_hooks \u001b[38;5;129;01mor\u001b[39;00m \u001b[38;5;28mself\u001b[39m._forward_pre_hooks\n\u001b[32m   1760\u001b[39m         \u001b[38;5;129;01mor\u001b[39;00m _global_backward_pre_hooks \u001b[38;5;129;01mor\u001b[39;00m _global_backward_hooks\n\u001b[32m   1761\u001b[39m         \u001b[38;5;129;01mor\u001b[39;00m _global_forward_hooks \u001b[38;5;129;01mor\u001b[39;00m _global_forward_pre_hooks):\n\u001b[32m-> \u001b[39m\u001b[32m1762\u001b[39m     \u001b[38;5;28;01mreturn\u001b[39;00m \u001b[43mforward_call\u001b[49m\u001b[43m(\u001b[49m\u001b[43m*\u001b[49m\u001b[43margs\u001b[49m\u001b[43m,\u001b[49m\u001b[43m \u001b[49m\u001b[43m*\u001b[49m\u001b[43m*\u001b[49m\u001b[43mkwargs\u001b[49m\u001b[43m)\u001b[49m\n\u001b[32m   1764\u001b[39m result = \u001b[38;5;28;01mNone\u001b[39;00m\n\u001b[32m   1765\u001b[39m called_always_called_hooks = \u001b[38;5;28mset\u001b[39m()\n",
      "\u001b[36mFile \u001b[39m\u001b[32m/mnt/d/projects/wind_pressure_prediction_CNN/environment/linux_wpp_cnn/lib/python3.12/site-packages/torch/nn/modules/container.py:240\u001b[39m, in \u001b[36mSequential.forward\u001b[39m\u001b[34m(self, input)\u001b[39m\n\u001b[32m    238\u001b[39m \u001b[38;5;28;01mdef\u001b[39;00m\u001b[38;5;250m \u001b[39m\u001b[34mforward\u001b[39m(\u001b[38;5;28mself\u001b[39m, \u001b[38;5;28minput\u001b[39m):\n\u001b[32m    239\u001b[39m     \u001b[38;5;28;01mfor\u001b[39;00m module \u001b[38;5;129;01min\u001b[39;00m \u001b[38;5;28mself\u001b[39m:\n\u001b[32m--> \u001b[39m\u001b[32m240\u001b[39m         \u001b[38;5;28minput\u001b[39m = \u001b[43mmodule\u001b[49m\u001b[43m(\u001b[49m\u001b[38;5;28;43minput\u001b[39;49m\u001b[43m)\u001b[49m\n\u001b[32m    241\u001b[39m     \u001b[38;5;28;01mreturn\u001b[39;00m \u001b[38;5;28minput\u001b[39m\n",
      "\u001b[36mFile \u001b[39m\u001b[32m/mnt/d/projects/wind_pressure_prediction_CNN/environment/linux_wpp_cnn/lib/python3.12/site-packages/torch/nn/modules/module.py:1751\u001b[39m, in \u001b[36mModule._wrapped_call_impl\u001b[39m\u001b[34m(self, *args, **kwargs)\u001b[39m\n\u001b[32m   1749\u001b[39m     \u001b[38;5;28;01mreturn\u001b[39;00m \u001b[38;5;28mself\u001b[39m._compiled_call_impl(*args, **kwargs)  \u001b[38;5;66;03m# type: ignore[misc]\u001b[39;00m\n\u001b[32m   1750\u001b[39m \u001b[38;5;28;01melse\u001b[39;00m:\n\u001b[32m-> \u001b[39m\u001b[32m1751\u001b[39m     \u001b[38;5;28;01mreturn\u001b[39;00m \u001b[38;5;28;43mself\u001b[39;49m\u001b[43m.\u001b[49m\u001b[43m_call_impl\u001b[49m\u001b[43m(\u001b[49m\u001b[43m*\u001b[49m\u001b[43margs\u001b[49m\u001b[43m,\u001b[49m\u001b[43m \u001b[49m\u001b[43m*\u001b[49m\u001b[43m*\u001b[49m\u001b[43mkwargs\u001b[49m\u001b[43m)\u001b[49m\n",
      "\u001b[36mFile \u001b[39m\u001b[32m/mnt/d/projects/wind_pressure_prediction_CNN/environment/linux_wpp_cnn/lib/python3.12/site-packages/torch/nn/modules/module.py:1762\u001b[39m, in \u001b[36mModule._call_impl\u001b[39m\u001b[34m(self, *args, **kwargs)\u001b[39m\n\u001b[32m   1757\u001b[39m \u001b[38;5;66;03m# If we don't have any hooks, we want to skip the rest of the logic in\u001b[39;00m\n\u001b[32m   1758\u001b[39m \u001b[38;5;66;03m# this function, and just call forward.\u001b[39;00m\n\u001b[32m   1759\u001b[39m \u001b[38;5;28;01mif\u001b[39;00m \u001b[38;5;129;01mnot\u001b[39;00m (\u001b[38;5;28mself\u001b[39m._backward_hooks \u001b[38;5;129;01mor\u001b[39;00m \u001b[38;5;28mself\u001b[39m._backward_pre_hooks \u001b[38;5;129;01mor\u001b[39;00m \u001b[38;5;28mself\u001b[39m._forward_hooks \u001b[38;5;129;01mor\u001b[39;00m \u001b[38;5;28mself\u001b[39m._forward_pre_hooks\n\u001b[32m   1760\u001b[39m         \u001b[38;5;129;01mor\u001b[39;00m _global_backward_pre_hooks \u001b[38;5;129;01mor\u001b[39;00m _global_backward_hooks\n\u001b[32m   1761\u001b[39m         \u001b[38;5;129;01mor\u001b[39;00m _global_forward_hooks \u001b[38;5;129;01mor\u001b[39;00m _global_forward_pre_hooks):\n\u001b[32m-> \u001b[39m\u001b[32m1762\u001b[39m     \u001b[38;5;28;01mreturn\u001b[39;00m \u001b[43mforward_call\u001b[49m\u001b[43m(\u001b[49m\u001b[43m*\u001b[49m\u001b[43margs\u001b[49m\u001b[43m,\u001b[49m\u001b[43m \u001b[49m\u001b[43m*\u001b[49m\u001b[43m*\u001b[49m\u001b[43mkwargs\u001b[49m\u001b[43m)\u001b[49m\n\u001b[32m   1764\u001b[39m result = \u001b[38;5;28;01mNone\u001b[39;00m\n\u001b[32m   1765\u001b[39m called_always_called_hooks = \u001b[38;5;28mset\u001b[39m()\n",
      "\u001b[36mFile \u001b[39m\u001b[32m/mnt/d/projects/wind_pressure_prediction_CNN/environment/linux_wpp_cnn/lib/python3.12/site-packages/torch/nn/modules/activation.py:392\u001b[39m, in \u001b[36mTanh.forward\u001b[39m\u001b[34m(self, input)\u001b[39m\n\u001b[32m    391\u001b[39m \u001b[38;5;28;01mdef\u001b[39;00m\u001b[38;5;250m \u001b[39m\u001b[34mforward\u001b[39m(\u001b[38;5;28mself\u001b[39m, \u001b[38;5;28minput\u001b[39m: Tensor) -> Tensor:\n\u001b[32m--> \u001b[39m\u001b[32m392\u001b[39m     \u001b[38;5;28;01mreturn\u001b[39;00m \u001b[43mtorch\u001b[49m\u001b[43m.\u001b[49m\u001b[43mtanh\u001b[49m\u001b[43m(\u001b[49m\u001b[38;5;28;43minput\u001b[39;49m\u001b[43m)\u001b[49m\n",
      "\u001b[31mKeyboardInterrupt\u001b[39m: "
     ]
    }
   ],
   "source": [
    "# 📁 src/train/train_cnn_random_search.py\n",
    "\n",
    "\n",
    "# ----------------------------\n",
    "# Гиперпараметры для Random Search\n",
    "# ----------------------------\n",
    "lr_choices = [0.003]                # 🔧 Скорость обучения (learning rate)\n",
    "batch_size_choices = [64]                 # 📦 Размер мини-батча\n",
    "epoch_choices = [1000]                   # 🔁 Количество эпох обучения\n",
    "\n",
    "activation_choices = [\n",
    "    nn.ReLU,\n",
    "    nn.Tanh,\n",
    "    nn.Sigmoid,\n",
    "    nn.LeakyReLU,\n",
    "    nn.ELU,\n",
    "    nn.SELU,\n",
    "    nn.GELU,\n",
    "]   \n",
    "                                               # ⚡️ Функция активации для нейронов\n",
    "optimizer_choices = [\"Adam\"]                        # 🧠 Оптимизатор (метод обновления весов)\n",
    "loss_fn_choices = [nn.MSELoss]                      # 📉 Функция потерь (для оценки ошибки)\n",
    "\n",
    "filters_choices = [\n",
    "    [16, 32, 64],                                 # 🧱 Конфигурация свёрточных фильтров (кол-во каналов на каждом слое)\n",
    "    ]\n",
    "\n",
    "batchnorm_choices = [True]                 # ✅ Использовать ли BatchNorm после Conv-слоёв\n",
    "\n",
    "\n",
    "N_RUNS = 5  # Количество запусков\n",
    "\n",
    "# ----------------------------\n",
    "# Random Search Loop\n",
    "# ----------------------------\n",
    "for run in range(N_RUNS):\n",
    "    lr = random.choice(lr_choices)\n",
    "    batch_size = random.choice(batch_size_choices)\n",
    "    epochs = random.choice(epoch_choices)\n",
    "    activation_fn = random.choice(activation_choices)\n",
    "    optimizer_name = random.choice(optimizer_choices)\n",
    "    loss_fn = random.choice(loss_fn_choices)\n",
    "    filters = random.choice(filters_choices)\n",
    "    use_batchnorm = random.choice(batchnorm_choices)\n",
    "\n",
    "    print(f\"\\n🔁 Run {run + 1}/{N_RUNS}\")\n",
    "    print(f\"→ lr: {lr}, batch_size: {batch_size}, epochs: {epochs}\")\n",
    "    print(f\"→ activation: {activation_fn.__name__}, optimizer: {optimizer_name}, loss_fn: {loss_fn.__name__}\")\n",
    "    print(f\"→ filters: {filters}, batchnorm: {use_batchnorm}\")\n",
    "\n",
    "    run_id, metrics = train_cnn(\n",
    "        lr=lr,\n",
    "        batch_size=batch_size,\n",
    "        epochs=epochs,\n",
    "        input_channels=3,\n",
    "        activation_fn=activation_fn,\n",
    "        optimizer_name=optimizer_name,\n",
    "        loss_fn=loss_fn,\n",
    "        filters=filters,\n",
    "        use_batchnorm=use_batchnorm\n",
    "    )\n",
    "\n",
    "    print(f\"✅ Finished run {run_id}\")\n",
    "    print(f\"📊 Metrics: {{'MSE': {float(metrics['MSE']):.6f}, 'MAE': {float(metrics['MAE']):.6f}, 'R2': {float(metrics['R2']):.4f}}}\")\n"
   ]
  },
  {
   "cell_type": "code",
   "execution_count": null,
   "id": "56c3bddd",
   "metadata": {
    "execution": {
     "iopub.execute_input": "2025-05-29T03:01:42.760839Z",
     "iopub.status.busy": "2025-05-29T03:01:42.760151Z",
     "iopub.status.idle": "2025-05-29T03:01:44.039124Z",
     "shell.execute_reply": "2025-05-29T03:01:44.038490Z"
    },
    "papermill": {
     "duration": 3.185796,
     "end_time": "2025-05-29T03:01:44.040246",
     "exception": false,
     "start_time": "2025-05-29T03:01:40.854450",
     "status": "completed"
    },
    "tags": []
   },
   "outputs": [
    {
     "name": "stdout",
     "output_type": "stream",
     "text": [
      "📊 Total CNN runs: 2\n"
     ]
    },
    {
     "data": {
      "image/png": "[encoded data removed]",
      "text/plain": [
       "<Figure size 1400x600 with 2 Axes>"
      ]
     },
     "metadata": {},
     "output_type": "display_data"
    },
    {
     "data": {
      "image/png": "[encoded data removed]",
      "text/plain": [
       "<Figure size 1000x800 with 2 Axes>"
      ]
     },
     "metadata": {},
     "output_type": "display_data"
    },
    {
     "name": "stdout",
     "output_type": "stream",
     "text": [
      "\n",
      "📌 Best R²: 0.2579\n",
      "📉 Threshold (95%): 0.2450\n",
      "🧱 Stable CNN configs: 1\n",
      "\n",
      "                    run_id     lr  batch_size      R2    MAE       MSE\n",
      "0  cnn_5e-03lr_64bs_1000ep  0.005          64  0.2579  0.316  0.183937\n"
     ]
    }
   ],
   "source": [
    "# 🔄 Путь к логу (можно поменять на нужный)\n",
    "LOG_CSV_PATH = os.path.join(DATA_ROOT, \"experiments\", \"experiments_log.csv\")\n",
    "df_log = pd.read_csv(LOG_CSV_PATH)\n",
    "\n",
    "\n",
    "# 🎨 Стиль графиков\n",
    "sns.set(style=\"whitegrid\", palette=\"deep\", font_scale=1.2)\n",
    "\n",
    "# ➤ Фильтруем только CNN\n",
    "df_cnn = df_log[df_log[\"run_id\"].str.startswith(\"cnn\")].copy()\n",
    "print(f\"📊 Total CNN runs: {len(df_cnn)}\")\n",
    "\n",
    "# ------------------------------\n",
    "# 📈 Boxplot: R² по lr и batch_size\n",
    "# ------------------------------\n",
    "fig, axes = plt.subplots(1, 2, figsize=(14, 6))\n",
    "\n",
    "# 📌 Boxplot: Learning Rate\n",
    "sns.boxplot(x=\"lr\", y=\"R2\", data=df_cnn, ax=axes[0], width=0.6)\n",
    "axes[0].set_title(\"R² by Learning Rate\")\n",
    "axes[0].set_xlabel(\"Learning Rate\")\n",
    "axes[0].set_ylabel(\"R² Score\")\n",
    "\n",
    "# 📌 Boxplot: Batch Size\n",
    "sns.boxplot(x=\"batch_size\", y=\"R2\", data=df_cnn, ax=axes[1], width=0.6)\n",
    "axes[1].set_title(\"R² by Batch Size\")\n",
    "axes[1].set_xlabel(\"Batch Size\")\n",
    "axes[1].set_ylabel(\"R² Score\")\n",
    "\n",
    "plt.tight_layout()\n",
    "plt.show()\n",
    "\n",
    "# ------------------------------\n",
    "# 🔥 Heatmap: R² по lr × batch_size\n",
    "# ------------------------------\n",
    "pivot = df_cnn.pivot_table(\n",
    "    values=\"R2\",\n",
    "    index=\"lr\",\n",
    "    columns=\"batch_size\",\n",
    "    aggfunc=\"mean\"\n",
    ").sort_index(ascending=False)\n",
    "\n",
    "plt.figure(figsize=(10, 8))\n",
    "sns.heatmap(pivot, annot=True, fmt=\".3f\", cmap=\"YlGnBu\", linewidths=0.5, cbar_kws={\"label\": \"R² Score\"})\n",
    "plt.title(\"R² Heatmap: Learning Rate × Batch Size\", fontsize=16)\n",
    "plt.xlabel(\"Batch Size\")\n",
    "plt.ylabel(\"Learning Rate\")\n",
    "plt.tight_layout()\n",
    "plt.show()\n",
    "\n",
    "# ------------------------------\n",
    "# ⭐ Лучшие конфигурации\n",
    "# ------------------------------\n",
    "r2_max = df_cnn[\"R2\"].max()\n",
    "threshold = r2_max * 0.95\n",
    "stable = df_cnn[df_cnn[\"R2\"] >= threshold]\n",
    "\n",
    "print(f\"\\n📌 Best R²: {r2_max:.4f}\")\n",
    "print(f\"📉 Threshold (95%): {threshold:.4f}\")\n",
    "print(f\"🧱 Stable CNN configs: {len(stable)}\\n\")\n",
    "print(stable.sort_values(\"R2\", ascending=False)[[\"run_id\", \"lr\", \"batch_size\", \"R2\", \"MAE\", \"MSE\"]])\n"
   ]
  },
  {
   "cell_type": "code",
   "execution_count": null,
   "id": "71d607c9",
   "metadata": {},
   "outputs": [
    {
     "name": "stdout",
     "output_type": "stream",
     "text": [
      "✅ Модель успешно восстановлена и готова к использованию.\n",
      "📦 Загружены данные:\n",
      "X_all: (608, 3, 9, 28)\n",
      "Y_all: (608, 1, 9, 28)\n"
     ]
    },
    {
     "name": "stderr",
     "output_type": "stream",
     "text": [
      "/tmp/ipykernel_645/397146551.py:74: UserWarning: Glyph 127919 (\\N{DIRECT HIT}) missing from font(s) DejaVu Sans.\n",
      "  plt.tight_layout()\n",
      "/tmp/ipykernel_645/397146551.py:74: UserWarning: Glyph 128302 (\\N{CRYSTAL BALL}) missing from font(s) DejaVu Sans.\n",
      "  plt.tight_layout()\n"
     ]
    },
    {
     "data": {
      "image/png": "[encoded data removed]",
      "text/plain": [
       "<Figure size 1000x400 with 2 Axes>"
      ]
     },
     "metadata": {},
     "output_type": "display_data"
    }
   ],
   "source": [
    "# ➤ Класс CNN-модели (предполагаем, что он уже определён выше)\n",
    "# class WindPressureCNN(nn.Module): ...\n",
    "\n",
    "# 📍 Укажи путь к конфигу и весам\n",
    "CONFIG_PATH = \"/mnt/d/projects/wind_pressure_prediction_CNN/experiments/tuning_CNN/cnn_5e-03lr_32bs_1000ep/config_cnn_5e-03lr_32bs_1000ep.json\"\n",
    "MODEL_SAVE_PATH = \"/mnt/d/projects/wind_pressure_prediction_CNN/experiments/best_model/best_cnn_5e-03lr_32bs_1000ep.pth\"\n",
    "\n",
    "# ➤ Загружаем конфиг\n",
    "with open(CONFIG_PATH, \"r\") as f:\n",
    "    config = json.load(f)\n",
    "\n",
    "# ➤ Преобразуем имя функции активации в класс\n",
    "activation_map = {\n",
    "    \"ReLU\": nn.ReLU,\n",
    "    \"Tanh\": nn.Tanh,\n",
    "    \"Sigmoid\": nn.Sigmoid,\n",
    "    \"LeakyReLU\": nn.LeakyReLU,\n",
    "    \"ELU\": nn.ELU,\n",
    "    \"SELU\": nn.SELU,\n",
    "    \"GELU\": nn.GELU\n",
    "}\n",
    "\n",
    "\n",
    "activation_fn = activation_map[config[\"activation_fn\"]]\n",
    "\n",
    "# ➤ Воссоздаём модель\n",
    "model = WindPressureCNN(\n",
    "    input_channels=config[\"input_channels\"],\n",
    "    filters=config[\"filters\"],\n",
    "    activation_fn=activation_fn,\n",
    "    use_batchnorm=config[\"batchnorm\"]\n",
    ")\n",
    "\n",
    "# ➤ Загружаем веса\n",
    "model.load_state_dict(torch.load(MODEL_SAVE_PATH))\n",
    "model.eval()  # переводим в режим оценки\n",
    "\n",
    "print(\"✅ Модель успешно восстановлена и готова к использованию.\")\n",
    "\n",
    "# ➤ Путь к данным\n",
    "X_PATH = \"/mnt/d/projects/wind_pressure_prediction_CNN/data/processed/cnn_input/X_cnn.npy\"\n",
    "Y_PATH = \"/mnt/d/projects/wind_pressure_prediction_CNN/data/processed/cnn_input/Y_cnn.npy\"\n",
    "\n",
    "# ➤ Загрузка данных\n",
    "X_all = np.load(X_PATH)\n",
    "Y_all = np.load(Y_PATH)\n",
    "\n",
    "print(\"📦 Загружены данные:\")\n",
    "print(\"X_all:\", X_all.shape)\n",
    "print(\"Y_all:\", Y_all.shape)\n",
    "\n",
    "# ➤ Выбор случайного примера\n",
    "idx = random.randint(0, len(X_all) - 1)\n",
    "X_sample = torch.tensor(X_all[idx:idx+1], dtype=torch.float32)  # shape: [1, C, H, W]\n",
    "Y_true = Y_all[idx]  # shape: [1, H, W] или [H, W]\n",
    "\n",
    "# ➤ Предсказание модели\n",
    "with torch.no_grad():\n",
    "    Y_pred = model(X_sample).squeeze().cpu().numpy()\n",
    "\n",
    "# ➤ Визуализация\n",
    "fig, axs = plt.subplots(1, 2, figsize=(10, 4))\n",
    "axs[0].imshow(Y_true.squeeze(), cmap='viridis')\n",
    "axs[0].set_title(\"🎯 Истинное давление\")\n",
    "\n",
    "axs[1].imshow(Y_pred.squeeze(), cmap='viridis')\n",
    "axs[1].set_title(\"🔮 Предсказанное моделью\")\n",
    "\n",
    "plt.tight_layout()\n",
    "plt.show()\n"
   ]
  }
 ],
 "metadata": {
  "kaggle": {
   "accelerator": "nvidiaTeslaT4",
   "dataSources": [
    {
     "datasetId": 7473606,
     "sourceId": 11890458,
     "sourceType": "datasetVersion"
    }
   ],
   "dockerImageVersionId": 31041,
   "isGpuEnabled": true,
   "isInternetEnabled": false,
   "language": "python",
   "sourceType": "notebook"
  },
  "kernelspec": {
   "display_name": "linux_wpp_cnn",
   "language": "python",
   "name": "python3"
  },
  "language_info": {
   "codemirror_mode": {
    "name": "ipython",
    "version": 3
   },
   "file_extension": ".py",
   "mimetype": "text/x-python",
   "name": "python",
   "nbconvert_exporter": "python",
   "pygments_lexer": "ipython3",
   "version": "3.12.3"
  },
  "papermill": {
   "default_parameters": {},
   "duration": 4800.720152,
   "end_time": "2025-05-29T03:01:48.764113",
   "environment_variables": {},
   "exception": null,
   "input_path": "__notebook__.ipynb",
   "output_path": "__notebook__.ipynb",
   "parameters": {},
   "start_time": "2025-05-29T01:41:48.043961",
   "version": "2.6.0"
  }
 },
 "nbformat": 4,
 "nbformat_minor": 5
}
