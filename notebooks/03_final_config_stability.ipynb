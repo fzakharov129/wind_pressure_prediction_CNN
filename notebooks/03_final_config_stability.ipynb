{
 "cells": [
  {
   "cell_type": "code",
   "execution_count": 1,
   "id": "48f99e4c",
   "metadata": {
    "execution": {
     "iopub.execute_input": "2025-06-09T08:29:37.138333Z",
     "iopub.status.busy": "2025-06-09T08:29:37.138018Z",
     "iopub.status.idle": "2025-06-09T08:29:44.986711Z",
     "shell.execute_reply": "2025-06-09T08:29:44.986104Z"
    },
    "papermill": {
     "duration": 7.853843,
     "end_time": "2025-06-09T08:29:44.988204",
     "exception": false,
     "start_time": "2025-06-09T08:29:37.134361",
     "status": "completed"
    },
    "tags": []
   },
   "outputs": [],
   "source": [
    "# 📦 Стандартные библиотеки\n",
    "import os\n",
    "import json\n",
    "import time\n",
    "import random\n",
    "import glob\n",
    "from pathlib import Path\n",
    "\n",
    "# 📊 Обработка и визуализация данных\n",
    "import numpy as np\n",
    "import pandas as pd\n",
    "import matplotlib.pyplot as plt\n",
    "import seaborn as sns\n",
    "import matplotlib.ticker as ticker\n",
    "\n",
    "# 🤖 Машинное обучение (sklearn)\n",
    "from sklearn.model_selection import train_test_split, KFold\n",
    "from sklearn.metrics import mean_squared_error, mean_absolute_error, r2_score\n",
    "\n",
    "# 🔥 PyTorch\n",
    "import torch\n",
    "import torch.nn as nn\n",
    "import torch.optim as optim\n",
    "from torch.utils.data import Dataset, DataLoader, TensorDataset\n",
    "\n",
    "# ⏳ Прогресс-бар\n",
    "from tqdm import tqdm"
   ]
  },
  {
   "cell_type": "code",
   "execution_count": 2,
   "id": "6ab4e773",
   "metadata": {
    "execution": {
     "iopub.execute_input": "2025-06-09T08:29:44.993675Z",
     "iopub.status.busy": "2025-06-09T08:29:44.993363Z",
     "iopub.status.idle": "2025-06-09T08:29:45.090463Z",
     "shell.execute_reply": "2025-06-09T08:29:45.089590Z"
    },
    "papermill": {
     "duration": 0.100968,
     "end_time": "2025-06-09T08:29:45.091694",
     "exception": false,
     "start_time": "2025-06-09T08:29:44.990726",
     "status": "completed"
    },
    "tags": []
   },
   "outputs": [
    {
     "name": "stdout",
     "output_type": "stream",
     "text": [
      "🛠 Device: cuda\n"
     ]
    }
   ],
   "source": [
    "# ----------------------------\n",
    "# Device setup\n",
    "# ----------------------------\n",
    "device = torch.device(\"cuda\" if torch.cuda.is_available() else \"cpu\")\n",
    "print(f\"🛠 Device: {device}\")\n",
    "\n",
    "# ----------------------------\n",
    "# Paths setup (UNIX style)\n",
    "# ----------------------------\n",
    "\n",
    "# 🔧 Вставь сюда свои актуальные пути:\n",
    "# DATA_ROOT = Path(\"/mnt/d/projects/wind_pressure_prediction_CNN/data/processed/cnn_input\")\n",
    "DATA_ROOT = Path(\"/kaggle/input\")\n",
    "# SAVE_ROOT = Path(\"/mnt/d/projects/wind_pressure_prediction_CNN/final_models/cnn_2e-04lr_64bs_ELU_16f\")\n",
    "SAVE_ROOT = Path(\"/kaggle/working/\")\n",
    "# CONFIG_PATH = Path(\"/mnt/d/projects/wind_pressure_prediction_CNN/final_models/cnn_2e-04lr_64bs_ELU_16f/cnn_2e-04lr_64bs_ELU_16f.json\")\n",
    "CONFIG_PATH = Path(\"/kaggle/input/cnn_2e-04lr_64bs_ELU_16f.json\")\n",
    "LOG_CSV_PATH = SAVE_ROOT / \"stability_log.csv\"\n",
    "\n",
    "# ----------------------------\n",
    "# Function to create a run-specific directory\n",
    "# ----------------------------\n",
    "def create_run_directory(\n",
    "    run_name=\"cnn\", lr=1e-3, batch_size=64, epochs=500,\n",
    "    activation_fn=None, optimizer_name=None, base_dir=SAVE_ROOT\n",
    "):\n",
    "    run_id = f\"{run_name}_{lr:.0e}lr_{batch_size}bs_{epochs}ep\"\n",
    "    \n",
    "    if activation_fn is not None:\n",
    "        run_id += f\"_{activation_fn.__name__}\"\n",
    "    if optimizer_name is not None:\n",
    "        run_id += f\"_{optimizer_name}\"\n",
    "    \n",
    "    run_dir = base_dir / run_id\n",
    "    run_dir.mkdir(parents=True, exist_ok=True)\n",
    "\n",
    "    print(f\"📂 Created run directory: {run_dir}\")\n",
    "    return run_id, run_dir\n"
   ]
  },
  {
   "cell_type": "code",
   "execution_count": 3,
   "id": "ef0240b2",
   "metadata": {
    "execution": {
     "iopub.execute_input": "2025-06-09T08:29:45.096646Z",
     "iopub.status.busy": "2025-06-09T08:29:45.096423Z",
     "iopub.status.idle": "2025-06-09T08:29:45.101630Z",
     "shell.execute_reply": "2025-06-09T08:29:45.101115Z"
    },
    "papermill": {
     "duration": 0.008741,
     "end_time": "2025-06-09T08:29:45.102598",
     "exception": false,
     "start_time": "2025-06-09T08:29:45.093857",
     "status": "completed"
    },
    "tags": []
   },
   "outputs": [],
   "source": [
    "# ➤ Класс CNN-модели\n",
    "class WindPressureCNN(nn.Module):\n",
    "    def __init__(self, input_channels, filters, activation_fn, use_batchnorm):\n",
    "        super(WindPressureCNN, self).__init__()\n",
    "\n",
    "        layers = []\n",
    "        in_channels = input_channels\n",
    "        for out_channels in filters:\n",
    "            layers.append(nn.Conv2d(in_channels, out_channels, kernel_size=3, padding=1))\n",
    "            if use_batchnorm:\n",
    "                layers.append(nn.BatchNorm2d(out_channels))\n",
    "            layers.append(activation_fn())\n",
    "            in_channels = out_channels\n",
    "\n",
    "        self.encoder = nn.Sequential(*layers)\n",
    "\n",
    "        self.decoder = nn.Sequential(\n",
    "            nn.Conv2d(filters[-1], filters[-2], kernel_size=3, padding=1),\n",
    "            activation_fn(),\n",
    "            nn.Conv2d(filters[-2], 1, kernel_size=1)\n",
    "        )\n",
    "\n",
    "    def forward(self, x):\n",
    "        x = self.encoder(x)\n",
    "        x = self.decoder(x)\n",
    "        return x\n"
   ]
  },
  {
   "cell_type": "code",
   "execution_count": 4,
   "id": "36e6b6e8",
   "metadata": {
    "execution": {
     "iopub.execute_input": "2025-06-09T08:29:45.107269Z",
     "iopub.status.busy": "2025-06-09T08:29:45.107066Z",
     "iopub.status.idle": "2025-06-09T08:29:45.111831Z",
     "shell.execute_reply": "2025-06-09T08:29:45.111343Z"
    },
    "papermill": {
     "duration": 0.008259,
     "end_time": "2025-06-09T08:29:45.112837",
     "exception": false,
     "start_time": "2025-06-09T08:29:45.104578",
     "status": "completed"
    },
    "tags": []
   },
   "outputs": [],
   "source": [
    "# ➤ Пользовательский Dataset\n",
    "class WindGridDataset(Dataset):\n",
    "    def __init__(self, X_tensor, Y_tensor):\n",
    "        self.X = X_tensor\n",
    "        self.Y = Y_tensor\n",
    "\n",
    "    def __len__(self):\n",
    "        return self.X.shape[0]\n",
    "\n",
    "    def __getitem__(self, idx):\n",
    "        return self.X[idx], self.Y[idx]\n",
    "\n",
    "# ➤ Оценка\n",
    "def evaluate_regression(y_true, y_pred):\n",
    "    y_true = y_true.detach().cpu().numpy().reshape(-1)\n",
    "    y_pred = y_pred.detach().cpu().numpy().reshape(-1)\n",
    "    mask = ~np.isnan(y_true) & ~np.isnan(y_pred)\n",
    "    return {\n",
    "        \"MSE\": mean_squared_error(y_true[mask], y_pred[mask]),\n",
    "        \"MAE\": mean_absolute_error(y_true[mask], y_pred[mask]),\n",
    "        \"R2\": r2_score(y_true[mask], y_pred[mask])\n",
    "    }"
   ]
  },
  {
   "cell_type": "code",
   "execution_count": 5,
   "id": "33b7ea13",
   "metadata": {
    "execution": {
     "iopub.execute_input": "2025-06-09T08:29:45.117763Z",
     "iopub.status.busy": "2025-06-09T08:29:45.117565Z",
     "iopub.status.idle": "2025-06-09T08:29:45.241678Z",
     "shell.execute_reply": "2025-06-09T08:29:45.241160Z"
    },
    "papermill": {
     "duration": 0.128,
     "end_time": "2025-06-09T08:29:45.242794",
     "exception": false,
     "start_time": "2025-06-09T08:29:45.114794",
     "status": "completed"
    },
    "tags": []
   },
   "outputs": [],
   "source": [
    "# ➤ Основная функция\n",
    "def train_cnn(\n",
    "    lr,\n",
    "    batch_size,\n",
    "    epochs,\n",
    "    input_channels,\n",
    "    activation_fn,\n",
    "    optimizer_name,\n",
    "    loss_fn,\n",
    "    filters,\n",
    "    use_batchnorm,\n",
    "    run_id,\n",
    "    X_train, Y_train,\n",
    "    X_val, Y_val,\n",
    "    best_r2\n",
    "    ):\n",
    "    # ✅ Переводим данные в тензоры\n",
    "    X_train = torch.tensor(X_train, dtype=torch.float32).to(device)\n",
    "    Y_train = torch.tensor(Y_train, dtype=torch.float32).to(device)\n",
    "    X_val   = torch.tensor(X_val,   dtype=torch.float32).to(device)\n",
    "    Y_val   = torch.tensor(Y_val,   dtype=torch.float32).to(device)\n",
    "    \n",
    "    print(\"✅ Данные загружены в модель:\")\n",
    "    print(\"X_train shape:\", X_train.shape)\n",
    "    print(\"X_val shape:\", X_val.shape)\n",
    "    \n",
    "    # 🎯 Основной график распределения\n",
    "    plt.figure(figsize=(10, 5))\n",
    "    plt.hist(Y_train.cpu().flatten(), bins=50, alpha=0.6, label='Train Y')  # <-- добавлено .cpu()\n",
    "    plt.hist(Y_val.cpu().flatten(), bins=50, alpha=0.6, label='Val Y')      # <-- добавлено .cpu()\n",
    "    plt.xlabel(\"Target Value\")\n",
    "    plt.ylabel(\"Frequency\")\n",
    "    plt.title(f\"🎯 Target Distribution — Train vs Val\")\n",
    "    plt.legend()\n",
    "    plt.grid(True)\n",
    "    plt.tight_layout()\n",
    "    plt.show()\n",
    "\n",
    "\n",
    "    model = WindPressureCNN(\n",
    "        input_channels=input_channels,\n",
    "        filters=filters,\n",
    "        activation_fn=activation_fn,\n",
    "        use_batchnorm=use_batchnorm\n",
    "    ).to(device)\n",
    "\n",
    "    # Функция потерь\n",
    "    criterion = loss_fn()\n",
    "\n",
    "    # Оптимизатор\n",
    "    if optimizer_name == \"Adam\":\n",
    "        optimizer = torch.optim.Adam(model.parameters(), lr=lr)\n",
    "    elif optimizer_name == \"SGD\":\n",
    "        optimizer = torch.optim.SGD(model.parameters(), lr=lr, momentum=0.9)\n",
    "    else:\n",
    "        raise ValueError(f\"Unsupported optimizer: {optimizer_name}\")\n",
    "\n",
    "    # Датасеты и загрузчики\n",
    "    train_loader = DataLoader(WindGridDataset(X_train, Y_train), batch_size=batch_size, shuffle=True)\n",
    "    val_loader   = DataLoader(WindGridDataset(X_val, Y_val), batch_size=batch_size)\n",
    "\n",
    "    # Тренировка\n",
    "    best_loss = float(\"inf\")\n",
    "    patience = 150\n",
    "    counter = 0\n",
    "\n",
    "    for epoch in tqdm(range(epochs), desc=\"Epochs\"):\n",
    "        model.train()\n",
    "        epoch_loss = 0.0\n",
    "        for batch_X, batch_Y in train_loader:\n",
    "            optimizer.zero_grad()\n",
    "            outputs = model(batch_X)\n",
    "            loss = criterion(outputs, batch_Y)\n",
    "            loss.backward()\n",
    "            optimizer.step()\n",
    "            epoch_loss += loss.item()\n",
    "\n",
    "        # Валидация каждые 100 эпох\n",
    "        if (epoch + 1) % 100 == 0 or epoch == 0 or epoch == epochs - 1:\n",
    "            model.eval()\n",
    "            with torch.no_grad():\n",
    "                y_val_pred = model(X_val)\n",
    "                epoch_metrics = evaluate_regression(Y_val, y_val_pred)\n",
    "                print(f\"📉 Epoch {epoch + 1} | Train Loss: {epoch_loss:.6f} | \"\n",
    "                      f\"Val R2: {epoch_metrics['R2']:.4f} | \"\n",
    "                      f\"MAE: {epoch_metrics['MAE']:.4f} | \"\n",
    "                      f\"MSE: {epoch_metrics['MSE']:.6f}\")\n",
    "\n",
    "        # Early Stopping\n",
    "        val_loss = 0.0\n",
    "        model.eval()\n",
    "        with torch.no_grad():\n",
    "            for batch_X, batch_Y in val_loader:\n",
    "                outputs = model(batch_X)\n",
    "                loss = criterion(outputs, batch_Y)\n",
    "                val_loss += loss.item()\n",
    "\n",
    "        if val_loss < best_loss:\n",
    "            best_loss = val_loss\n",
    "            counter = 0\n",
    "        else:\n",
    "            counter += 1\n",
    "            if counter >= patience:\n",
    "                print(\"⏹️ Early stopping\")\n",
    "                break\n",
    "\n",
    "    # Оценка на валидации (финал)\n",
    "    model.eval()\n",
    "    with torch.no_grad():\n",
    "        y_pred = model(X_val)\n",
    "        metrics = evaluate_regression(Y_val, y_pred)\n",
    "        print(f\"\\n📈 Final Validation Metrics: {metrics}\")\n",
    "\n",
    "    if metrics[\"R2\"] > best_r2:\n",
    "        # Обновляем лучшую метрику\n",
    "        best_r2 = metrics[\"R2\"]\n",
    "        \n",
    "        # Удаляем все старые .pth в SAVE_ROOT\n",
    "        for f in glob.glob(os.path.join(SAVE_ROOT, \"*.pth\")):\n",
    "            os.remove(f)\n",
    "\n",
    "        # Создаём красивое имя для сохранения весов\n",
    "        filters_str = \"-\".join(map(str, filters))\n",
    "        MODEL_FILENAME = (\n",
    "        f\"best_\"\n",
    "        f\"{run_id}_\"\n",
    "        f\"{activation_fn.__name__}_\"\n",
    "        f\"{optimizer_name}.pth\"\n",
    "        )\n",
    "\n",
    "        MODEL_SAVE_PATH = os.path.join(SAVE_ROOT, MODEL_FILENAME)\n",
    "\n",
    "        # Сохраняем новые веса\n",
    "        torch.save(model.state_dict(), MODEL_SAVE_PATH)\n",
    "        print(f\"💾 Сохранена новая лучшая модель: {MODEL_SAVE_PATH} (R² = {best_r2:.4f})\")\n",
    "\n",
    "    return model, metrics, best_r2\n",
    "   \n",
    "\n"
   ]
  },
  {
   "cell_type": "code",
   "execution_count": 6,
   "id": "7bc81784",
   "metadata": {
    "execution": {
     "iopub.execute_input": "2025-06-09T08:29:45.247869Z",
     "iopub.status.busy": "2025-06-09T08:29:45.247655Z",
     "iopub.status.idle": "2025-06-09T08:56:35.819131Z",
     "shell.execute_reply": "2025-06-09T08:56:35.818219Z"
    },
    "papermill": {
     "duration": 1610.57542,
     "end_time": "2025-06-09T08:56:35.820382",
     "exception": false,
     "start_time": "2025-06-09T08:29:45.244962",
     "status": "completed"
    },
    "tags": []
   },
   "outputs": [
    {
     "name": "stdout",
     "output_type": "stream",
     "text": [
      "seeds: [492136, 106420, 215030, 905522, 859969, 844071, 578254, 154423, 226348, 333787]\n",
      "\n",
      "🌱 Starting training with seed 492136\n",
      "✅ Данные загружены в модель:\n",
      "X_train shape: torch.Size([547, 3, 9, 28])\n",
      "X_val shape: torch.Size([61, 3, 9, 28])\n"
     ]
    },
    {
     "name": "stderr",
     "output_type": "stream",
     "text": [
      "/tmp/ipykernel_19/1404025780.py:36: UserWarning: Glyph 127919 (\\N{DIRECT HIT}) missing from current font.\n",
      "  plt.tight_layout()\n",
      "/usr/local/lib/python3.11/dist-packages/IPython/core/pylabtools.py:151: UserWarning: Glyph 127919 (\\N{DIRECT HIT}) missing from current font.\n",
      "  fig.canvas.print_figure(bytes_io, **kw)\n"
     ]
    },
    {
     "data": {
      "image/png": "[encoded data removed]",
      "text/plain": [
       "<Figure size 1000x500 with 1 Axes>"
      ]
     },
     "metadata": {},
     "output_type": "display_data"
    },
    {
     "name": "stderr",
     "output_type": "stream",
     "text": [
      "Epochs:   0%|          | 2/3000 [00:01<35:49,  1.39it/s]  "
     ]
    },
    {
     "name": "stdout",
     "output_type": "stream",
     "text": [
      "📉 Epoch 1 | Train Loss: 1.959455 | Val R2: -0.3948 | MAE: 0.5475 | MSE: 0.359465\n"
     ]
    },
    {
     "name": "stderr",
     "output_type": "stream",
     "text": [
      "Epochs:   3%|▎         | 101/3000 [00:18<08:15,  5.85it/s]"
     ]
    },
    {
     "name": "stdout",
     "output_type": "stream",
     "text": [
      "📉 Epoch 100 | Train Loss: 0.181743 | Val R2: 0.9510 | MAE: 0.0810 | MSE: 0.012634\n"
     ]
    },
    {
     "name": "stderr",
     "output_type": "stream",
     "text": [
      "Epochs:   7%|▋         | 201/3000 [00:35<08:12,  5.69it/s]"
     ]
    },
    {
     "name": "stdout",
     "output_type": "stream",
     "text": [
      "📉 Epoch 200 | Train Loss: 0.096181 | Val R2: 0.9637 | MAE: 0.0637 | MSE: 0.009361\n"
     ]
    },
    {
     "name": "stderr",
     "output_type": "stream",
     "text": [
      "Epochs:  10%|█         | 301/3000 [00:53<08:04,  5.58it/s]"
     ]
    },
    {
     "name": "stdout",
     "output_type": "stream",
     "text": [
      "📉 Epoch 300 | Train Loss: 0.066369 | Val R2: 0.9756 | MAE: 0.0531 | MSE: 0.006282\n"
     ]
    },
    {
     "name": "stderr",
     "output_type": "stream",
     "text": [
      "Epochs:  13%|█▎        | 401/3000 [01:11<07:51,  5.51it/s]"
     ]
    },
    {
     "name": "stdout",
     "output_type": "stream",
     "text": [
      "📉 Epoch 400 | Train Loss: 0.089934 | Val R2: 0.9710 | MAE: 0.0566 | MSE: 0.007465\n"
     ]
    },
    {
     "name": "stderr",
     "output_type": "stream",
     "text": [
      "Epochs:  17%|█▋        | 501/3000 [01:29<07:40,  5.42it/s]"
     ]
    },
    {
     "name": "stdout",
     "output_type": "stream",
     "text": [
      "📉 Epoch 500 | Train Loss: 0.062638 | Val R2: 0.9775 | MAE: 0.0502 | MSE: 0.005792\n"
     ]
    },
    {
     "name": "stderr",
     "output_type": "stream",
     "text": [
      "Epochs:  20%|██        | 600/3000 [01:47<07:22,  5.43it/s]"
     ]
    },
    {
     "name": "stdout",
     "output_type": "stream",
     "text": [
      "📉 Epoch 600 | Train Loss: 0.056596 | Val R2: 0.9804 | MAE: 0.0455 | MSE: 0.005048\n"
     ]
    },
    {
     "name": "stderr",
     "output_type": "stream",
     "text": [
      "Epochs:  23%|██▎       | 701/3000 [02:05<06:58,  5.50it/s]"
     ]
    },
    {
     "name": "stdout",
     "output_type": "stream",
     "text": [
      "📉 Epoch 700 | Train Loss: 0.055635 | Val R2: 0.9691 | MAE: 0.0548 | MSE: 0.007968\n"
     ]
    },
    {
     "name": "stderr",
     "output_type": "stream",
     "text": [
      "Epochs:  27%|██▋       | 801/3000 [02:23<06:40,  5.49it/s]"
     ]
    },
    {
     "name": "stdout",
     "output_type": "stream",
     "text": [
      "📉 Epoch 800 | Train Loss: 0.038241 | Val R2: 0.9830 | MAE: 0.0417 | MSE: 0.004391\n"
     ]
    },
    {
     "name": "stderr",
     "output_type": "stream",
     "text": [
      "Epochs:  30%|███       | 901/3000 [02:42<06:20,  5.52it/s]"
     ]
    },
    {
     "name": "stdout",
     "output_type": "stream",
     "text": [
      "📉 Epoch 900 | Train Loss: 0.066118 | Val R2: 0.9733 | MAE: 0.0549 | MSE: 0.006882\n"
     ]
    },
    {
     "name": "stderr",
     "output_type": "stream",
     "text": [
      "Epochs:  32%|███▏      | 949/3000 [02:51<06:09,  5.55it/s]\n"
     ]
    },
    {
     "name": "stdout",
     "output_type": "stream",
     "text": [
      "⏹️ Early stopping\n",
      "\n",
      "📈 Final Validation Metrics: {'MSE': 0.0051350133, 'MAE': 0.046532467, 'R2': 0.9800749395894358}\n",
      "💾 Сохранена новая лучшая модель: /kaggle/working/best_input_seed492136_ELU_Adam.pth (R² = 0.9801)\n",
      "✅ Done: input_seed492136\n",
      "📊 Metrics: R²=0.9801 | MSE=0.005135 | MAE=0.046532\n",
      "\n",
      "🌱 Starting training with seed 106420\n",
      "✅ Данные загружены в модель:\n",
      "X_train shape: torch.Size([547, 3, 9, 28])\n",
      "X_val shape: torch.Size([61, 3, 9, 28])\n"
     ]
    },
    {
     "name": "stderr",
     "output_type": "stream",
     "text": [
      "/tmp/ipykernel_19/1404025780.py:36: UserWarning: Glyph 127919 (\\N{DIRECT HIT}) missing from current font.\n",
      "  plt.tight_layout()\n",
      "/usr/local/lib/python3.11/dist-packages/IPython/core/pylabtools.py:151: UserWarning: Glyph 127919 (\\N{DIRECT HIT}) missing from current font.\n",
      "  fig.canvas.print_figure(bytes_io, **kw)\n"
     ]
    },
    {
     "data": {
      "image/png": "[encoded data removed]",
      "text/plain": [
       "<Figure size 1000x500 with 1 Axes>"
      ]
     },
     "metadata": {},
     "output_type": "display_data"
    },
    {
     "name": "stderr",
     "output_type": "stream",
     "text": [
      "Epochs:   0%|          | 2/3000 [00:00<10:35,  4.72it/s]"
     ]
    },
    {
     "name": "stdout",
     "output_type": "stream",
     "text": [
      "📉 Epoch 1 | Train Loss: 1.854312 | Val R2: -0.0480 | MAE: 0.4497 | MSE: 0.249302\n"
     ]
    },
    {
     "name": "stderr",
     "output_type": "stream",
     "text": [
      "Epochs:   3%|▎         | 101/3000 [00:18<08:59,  5.38it/s]"
     ]
    },
    {
     "name": "stdout",
     "output_type": "stream",
     "text": [
      "📉 Epoch 100 | Train Loss: 0.170107 | Val R2: 0.9472 | MAE: 0.0773 | MSE: 0.012567\n"
     ]
    },
    {
     "name": "stderr",
     "output_type": "stream",
     "text": [
      "Epochs:   7%|▋         | 201/3000 [00:36<08:31,  5.47it/s]"
     ]
    },
    {
     "name": "stdout",
     "output_type": "stream",
     "text": [
      "📉 Epoch 200 | Train Loss: 0.120112 | Val R2: 0.9670 | MAE: 0.0605 | MSE: 0.007857\n"
     ]
    },
    {
     "name": "stderr",
     "output_type": "stream",
     "text": [
      "Epochs:  10%|█         | 301/3000 [00:54<08:11,  5.49it/s]"
     ]
    },
    {
     "name": "stdout",
     "output_type": "stream",
     "text": [
      "📉 Epoch 300 | Train Loss: 0.111411 | Val R2: 0.9649 | MAE: 0.0586 | MSE: 0.008359\n"
     ]
    },
    {
     "name": "stderr",
     "output_type": "stream",
     "text": [
      "Epochs:  13%|█▎        | 401/3000 [01:13<07:59,  5.42it/s]"
     ]
    },
    {
     "name": "stdout",
     "output_type": "stream",
     "text": [
      "📉 Epoch 400 | Train Loss: 0.076152 | Val R2: 0.9725 | MAE: 0.0549 | MSE: 0.006534\n"
     ]
    },
    {
     "name": "stderr",
     "output_type": "stream",
     "text": [
      "Epochs:  17%|█▋        | 501/3000 [01:31<07:33,  5.51it/s]"
     ]
    },
    {
     "name": "stdout",
     "output_type": "stream",
     "text": [
      "📉 Epoch 500 | Train Loss: 0.068293 | Val R2: 0.9715 | MAE: 0.0560 | MSE: 0.006780\n"
     ]
    },
    {
     "name": "stderr",
     "output_type": "stream",
     "text": [
      "Epochs:  20%|██        | 601/3000 [01:49<07:22,  5.42it/s]"
     ]
    },
    {
     "name": "stdout",
     "output_type": "stream",
     "text": [
      "📉 Epoch 600 | Train Loss: 0.065030 | Val R2: 0.9743 | MAE: 0.0503 | MSE: 0.006106\n"
     ]
    },
    {
     "name": "stderr",
     "output_type": "stream",
     "text": [
      "Epochs:  23%|██▎       | 701/3000 [02:07<07:00,  5.47it/s]"
     ]
    },
    {
     "name": "stdout",
     "output_type": "stream",
     "text": [
      "📉 Epoch 700 | Train Loss: 0.080367 | Val R2: 0.9709 | MAE: 0.0548 | MSE: 0.006931\n"
     ]
    },
    {
     "name": "stderr",
     "output_type": "stream",
     "text": [
      "Epochs:  27%|██▋       | 801/3000 [02:25<06:43,  5.46it/s]"
     ]
    },
    {
     "name": "stdout",
     "output_type": "stream",
     "text": [
      "📉 Epoch 800 | Train Loss: 0.059534 | Val R2: 0.9756 | MAE: 0.0501 | MSE: 0.005809\n"
     ]
    },
    {
     "name": "stderr",
     "output_type": "stream",
     "text": [
      "Epochs:  30%|███       | 901/3000 [02:43<06:21,  5.50it/s]"
     ]
    },
    {
     "name": "stdout",
     "output_type": "stream",
     "text": [
      "📉 Epoch 900 | Train Loss: 0.085567 | Val R2: 0.9734 | MAE: 0.0544 | MSE: 0.006331\n"
     ]
    },
    {
     "name": "stderr",
     "output_type": "stream",
     "text": [
      "Epochs:  33%|███▎      | 1001/3000 [03:02<06:04,  5.48it/s]"
     ]
    },
    {
     "name": "stdout",
     "output_type": "stream",
     "text": [
      "📉 Epoch 1000 | Train Loss: 0.079908 | Val R2: 0.9738 | MAE: 0.0489 | MSE: 0.006239\n"
     ]
    },
    {
     "name": "stderr",
     "output_type": "stream",
     "text": [
      "Epochs:  35%|███▌      | 1062/3000 [03:13<05:52,  5.49it/s]\n"
     ]
    },
    {
     "name": "stdout",
     "output_type": "stream",
     "text": [
      "⏹️ Early stopping\n",
      "\n",
      "📈 Final Validation Metrics: {'MSE': 0.0049210154, 'MAE': 0.044192042, 'R2': 0.9793141009049577}\n",
      "✅ Done: input_seed106420\n",
      "📊 Metrics: R²=0.9793 | MSE=0.004921 | MAE=0.044192\n",
      "\n",
      "🌱 Starting training with seed 215030\n",
      "✅ Данные загружены в модель:\n",
      "X_train shape: torch.Size([547, 3, 9, 28])\n",
      "X_val shape: torch.Size([61, 3, 9, 28])\n"
     ]
    },
    {
     "name": "stderr",
     "output_type": "stream",
     "text": [
      "/tmp/ipykernel_19/1404025780.py:36: UserWarning: Glyph 127919 (\\N{DIRECT HIT}) missing from current font.\n",
      "  plt.tight_layout()\n",
      "/usr/local/lib/python3.11/dist-packages/IPython/core/pylabtools.py:151: UserWarning: Glyph 127919 (\\N{DIRECT HIT}) missing from current font.\n",
      "  fig.canvas.print_figure(bytes_io, **kw)\n"
     ]
    },
    {
     "data": {
      "image/png": "[encoded data removed]",
      "text/plain": [
       "<Figure size 1000x500 with 1 Axes>"
      ]
     },
     "metadata": {},
     "output_type": "display_data"
    },
    {
     "name": "stderr",
     "output_type": "stream",
     "text": [
      "Epochs:   0%|          | 2/3000 [00:00<10:42,  4.67it/s]"
     ]
    },
    {
     "name": "stdout",
     "output_type": "stream",
     "text": [
      "📉 Epoch 1 | Train Loss: 2.055365 | Val R2: -0.1101 | MAE: 0.4622 | MSE: 0.264657\n"
     ]
    },
    {
     "name": "stderr",
     "output_type": "stream",
     "text": [
      "Epochs:   3%|▎         | 101/3000 [00:18<08:54,  5.42it/s]"
     ]
    },
    {
     "name": "stdout",
     "output_type": "stream",
     "text": [
      "📉 Epoch 100 | Train Loss: 0.141051 | Val R2: 0.9387 | MAE: 0.0868 | MSE: 0.014606\n"
     ]
    },
    {
     "name": "stderr",
     "output_type": "stream",
     "text": [
      "Epochs:   7%|▋         | 201/3000 [00:36<08:34,  5.44it/s]"
     ]
    },
    {
     "name": "stdout",
     "output_type": "stream",
     "text": [
      "📉 Epoch 200 | Train Loss: 0.103238 | Val R2: 0.9549 | MAE: 0.0717 | MSE: 0.010757\n"
     ]
    },
    {
     "name": "stderr",
     "output_type": "stream",
     "text": [
      "Epochs:  10%|█         | 301/3000 [00:54<08:12,  5.48it/s]"
     ]
    },
    {
     "name": "stdout",
     "output_type": "stream",
     "text": [
      "📉 Epoch 300 | Train Loss: 0.070977 | Val R2: 0.9725 | MAE: 0.0547 | MSE: 0.006546\n"
     ]
    },
    {
     "name": "stderr",
     "output_type": "stream",
     "text": [
      "Epochs:  13%|█▎        | 401/3000 [01:13<07:54,  5.48it/s]"
     ]
    },
    {
     "name": "stdout",
     "output_type": "stream",
     "text": [
      "📉 Epoch 400 | Train Loss: 0.080533 | Val R2: 0.9693 | MAE: 0.0564 | MSE: 0.007330\n"
     ]
    },
    {
     "name": "stderr",
     "output_type": "stream",
     "text": [
      "Epochs:  17%|█▋        | 501/3000 [01:31<07:39,  5.44it/s]"
     ]
    },
    {
     "name": "stdout",
     "output_type": "stream",
     "text": [
      "📉 Epoch 500 | Train Loss: 0.051409 | Val R2: 0.9753 | MAE: 0.0508 | MSE: 0.005882\n"
     ]
    },
    {
     "name": "stderr",
     "output_type": "stream",
     "text": [
      "Epochs:  20%|██        | 601/3000 [01:49<07:18,  5.47it/s]"
     ]
    },
    {
     "name": "stdout",
     "output_type": "stream",
     "text": [
      "📉 Epoch 600 | Train Loss: 0.047342 | Val R2: 0.9703 | MAE: 0.0559 | MSE: 0.007086\n"
     ]
    },
    {
     "name": "stderr",
     "output_type": "stream",
     "text": [
      "Epochs:  23%|██▎       | 701/3000 [02:07<07:07,  5.37it/s]"
     ]
    },
    {
     "name": "stdout",
     "output_type": "stream",
     "text": [
      "📉 Epoch 700 | Train Loss: 0.045857 | Val R2: 0.9746 | MAE: 0.0489 | MSE: 0.006057\n"
     ]
    },
    {
     "name": "stderr",
     "output_type": "stream",
     "text": [
      "Epochs:  27%|██▋       | 801/3000 [02:25<06:43,  5.45it/s]"
     ]
    },
    {
     "name": "stdout",
     "output_type": "stream",
     "text": [
      "📉 Epoch 800 | Train Loss: 0.039201 | Val R2: 0.9789 | MAE: 0.0450 | MSE: 0.005026\n"
     ]
    },
    {
     "name": "stderr",
     "output_type": "stream",
     "text": [
      "Epochs:  29%|██▉       | 884/3000 [02:41<06:25,  5.49it/s]\n"
     ]
    },
    {
     "name": "stdout",
     "output_type": "stream",
     "text": [
      "⏹️ Early stopping\n",
      "\n",
      "📈 Final Validation Metrics: {'MSE': 0.0073924316, 'MAE': 0.0581543, 'R2': 0.9689913233521813}\n",
      "✅ Done: input_seed215030\n",
      "📊 Metrics: R²=0.9690 | MSE=0.007392 | MAE=0.058154\n",
      "\n",
      "🌱 Starting training with seed 905522\n",
      "✅ Данные загружены в модель:\n",
      "X_train shape: torch.Size([547, 3, 9, 28])\n",
      "X_val shape: torch.Size([61, 3, 9, 28])\n"
     ]
    },
    {
     "name": "stderr",
     "output_type": "stream",
     "text": [
      "/tmp/ipykernel_19/1404025780.py:36: UserWarning: Glyph 127919 (\\N{DIRECT HIT}) missing from current font.\n",
      "  plt.tight_layout()\n",
      "/usr/local/lib/python3.11/dist-packages/IPython/core/pylabtools.py:151: UserWarning: Glyph 127919 (\\N{DIRECT HIT}) missing from current font.\n",
      "  fig.canvas.print_figure(bytes_io, **kw)\n"
     ]
    },
    {
     "data": {
      "image/png": "[encoded data removed]",
      "text/plain": [
       "<Figure size 1000x500 with 1 Axes>"
      ]
     },
     "metadata": {},
     "output_type": "display_data"
    },
    {
     "name": "stderr",
     "output_type": "stream",
     "text": [
      "Epochs:   0%|          | 2/3000 [00:00<10:42,  4.67it/s]"
     ]
    },
    {
     "name": "stdout",
     "output_type": "stream",
     "text": [
      "📉 Epoch 1 | Train Loss: 1.851326 | Val R2: -0.0747 | MAE: 0.4739 | MSE: 0.273584\n"
     ]
    },
    {
     "name": "stderr",
     "output_type": "stream",
     "text": [
      "Epochs:   3%|▎         | 101/3000 [00:18<08:48,  5.48it/s]"
     ]
    },
    {
     "name": "stdout",
     "output_type": "stream",
     "text": [
      "📉 Epoch 100 | Train Loss: 0.151615 | Val R2: 0.9400 | MAE: 0.0840 | MSE: 0.015277\n"
     ]
    },
    {
     "name": "stderr",
     "output_type": "stream",
     "text": [
      "Epochs:   7%|▋         | 201/3000 [00:36<08:31,  5.48it/s]"
     ]
    },
    {
     "name": "stdout",
     "output_type": "stream",
     "text": [
      "📉 Epoch 200 | Train Loss: 0.111163 | Val R2: 0.9689 | MAE: 0.0624 | MSE: 0.007921\n"
     ]
    },
    {
     "name": "stderr",
     "output_type": "stream",
     "text": [
      "Epochs:  10%|█         | 301/3000 [00:54<08:20,  5.39it/s]"
     ]
    },
    {
     "name": "stdout",
     "output_type": "stream",
     "text": [
      "📉 Epoch 300 | Train Loss: 0.101748 | Val R2: 0.9717 | MAE: 0.0597 | MSE: 0.007200\n"
     ]
    },
    {
     "name": "stderr",
     "output_type": "stream",
     "text": [
      "Epochs:  13%|█▎        | 401/3000 [01:13<07:58,  5.43it/s]"
     ]
    },
    {
     "name": "stdout",
     "output_type": "stream",
     "text": [
      "📉 Epoch 400 | Train Loss: 0.064827 | Val R2: 0.9764 | MAE: 0.0502 | MSE: 0.006010\n"
     ]
    },
    {
     "name": "stderr",
     "output_type": "stream",
     "text": [
      "Epochs:  17%|█▋        | 501/3000 [01:31<07:38,  5.45it/s]"
     ]
    },
    {
     "name": "stdout",
     "output_type": "stream",
     "text": [
      "📉 Epoch 500 | Train Loss: 0.147642 | Val R2: 0.9654 | MAE: 0.0649 | MSE: 0.008804\n"
     ]
    },
    {
     "name": "stderr",
     "output_type": "stream",
     "text": [
      "Epochs:  20%|██        | 601/3000 [01:49<07:18,  5.47it/s]"
     ]
    },
    {
     "name": "stdout",
     "output_type": "stream",
     "text": [
      "📉 Epoch 600 | Train Loss: 0.074068 | Val R2: 0.9796 | MAE: 0.0480 | MSE: 0.005196\n"
     ]
    },
    {
     "name": "stderr",
     "output_type": "stream",
     "text": [
      "Epochs:  22%|██▏       | 670/3000 [02:02<07:04,  5.49it/s]\n"
     ]
    },
    {
     "name": "stdout",
     "output_type": "stream",
     "text": [
      "⏹️ Early stopping\n",
      "\n",
      "📈 Final Validation Metrics: {'MSE': 0.005367321, 'MAE': 0.047759715, 'R2': 0.9789159571277488}\n",
      "✅ Done: input_seed905522\n",
      "📊 Metrics: R²=0.9789 | MSE=0.005367 | MAE=0.047760\n",
      "\n",
      "🌱 Starting training with seed 859969\n",
      "✅ Данные загружены в модель:\n",
      "X_train shape: torch.Size([547, 3, 9, 28])\n",
      "X_val shape: torch.Size([61, 3, 9, 28])\n"
     ]
    },
    {
     "name": "stderr",
     "output_type": "stream",
     "text": [
      "/tmp/ipykernel_19/1404025780.py:36: UserWarning: Glyph 127919 (\\N{DIRECT HIT}) missing from current font.\n",
      "  plt.tight_layout()\n",
      "/usr/local/lib/python3.11/dist-packages/IPython/core/pylabtools.py:151: UserWarning: Glyph 127919 (\\N{DIRECT HIT}) missing from current font.\n",
      "  fig.canvas.print_figure(bytes_io, **kw)\n"
     ]
    },
    {
     "data": {
      "image/png": "[encoded data removed]",
      "text/plain": [
       "<Figure size 1000x500 with 1 Axes>"
      ]
     },
     "metadata": {},
     "output_type": "display_data"
    },
    {
     "name": "stderr",
     "output_type": "stream",
     "text": [
      "Epochs:   0%|          | 2/3000 [00:00<10:24,  4.80it/s]"
     ]
    },
    {
     "name": "stdout",
     "output_type": "stream",
     "text": [
      "📉 Epoch 1 | Train Loss: 1.941521 | Val R2: -0.1245 | MAE: 0.4841 | MSE: 0.282161\n"
     ]
    },
    {
     "name": "stderr",
     "output_type": "stream",
     "text": [
      "Epochs:   3%|▎         | 101/3000 [00:18<08:54,  5.43it/s]"
     ]
    },
    {
     "name": "stdout",
     "output_type": "stream",
     "text": [
      "📉 Epoch 100 | Train Loss: 0.180615 | Val R2: 0.9205 | MAE: 0.0931 | MSE: 0.019956\n"
     ]
    },
    {
     "name": "stderr",
     "output_type": "stream",
     "text": [
      "Epochs:   7%|▋         | 201/3000 [00:36<08:36,  5.42it/s]"
     ]
    },
    {
     "name": "stdout",
     "output_type": "stream",
     "text": [
      "📉 Epoch 200 | Train Loss: 0.109494 | Val R2: 0.9622 | MAE: 0.0656 | MSE: 0.009473\n"
     ]
    },
    {
     "name": "stderr",
     "output_type": "stream",
     "text": [
      "Epochs:  10%|█         | 301/3000 [00:54<08:12,  5.48it/s]"
     ]
    },
    {
     "name": "stdout",
     "output_type": "stream",
     "text": [
      "📉 Epoch 300 | Train Loss: 0.118358 | Val R2: 0.9433 | MAE: 0.0822 | MSE: 0.014239\n"
     ]
    },
    {
     "name": "stderr",
     "output_type": "stream",
     "text": [
      "Epochs:  13%|█▎        | 401/3000 [01:13<07:51,  5.52it/s]"
     ]
    },
    {
     "name": "stdout",
     "output_type": "stream",
     "text": [
      "📉 Epoch 400 | Train Loss: 0.062294 | Val R2: 0.9729 | MAE: 0.0545 | MSE: 0.006791\n"
     ]
    },
    {
     "name": "stderr",
     "output_type": "stream",
     "text": [
      "Epochs:  17%|█▋        | 501/3000 [01:31<07:38,  5.45it/s]"
     ]
    },
    {
     "name": "stdout",
     "output_type": "stream",
     "text": [
      "📉 Epoch 500 | Train Loss: 0.050084 | Val R2: 0.9783 | MAE: 0.0470 | MSE: 0.005438\n"
     ]
    },
    {
     "name": "stderr",
     "output_type": "stream",
     "text": [
      "Epochs:  20%|██        | 601/3000 [01:49<07:18,  5.48it/s]"
     ]
    },
    {
     "name": "stdout",
     "output_type": "stream",
     "text": [
      "📉 Epoch 600 | Train Loss: 0.052825 | Val R2: 0.9713 | MAE: 0.0554 | MSE: 0.007205\n"
     ]
    },
    {
     "name": "stderr",
     "output_type": "stream",
     "text": [
      "Epochs:  23%|██▎       | 701/3000 [02:07<06:57,  5.51it/s]"
     ]
    },
    {
     "name": "stdout",
     "output_type": "stream",
     "text": [
      "📉 Epoch 700 | Train Loss: 0.059902 | Val R2: 0.9721 | MAE: 0.0561 | MSE: 0.007005\n"
     ]
    },
    {
     "name": "stderr",
     "output_type": "stream",
     "text": [
      "Epochs:  27%|██▋       | 801/3000 [02:25<06:44,  5.44it/s]"
     ]
    },
    {
     "name": "stdout",
     "output_type": "stream",
     "text": [
      "📉 Epoch 800 | Train Loss: 0.046715 | Val R2: 0.9786 | MAE: 0.0469 | MSE: 0.005377\n"
     ]
    },
    {
     "name": "stderr",
     "output_type": "stream",
     "text": [
      "Epochs:  30%|███       | 901/3000 [02:43<06:21,  5.50it/s]"
     ]
    },
    {
     "name": "stdout",
     "output_type": "stream",
     "text": [
      "📉 Epoch 900 | Train Loss: 0.056633 | Val R2: 0.9691 | MAE: 0.0584 | MSE: 0.007761\n"
     ]
    },
    {
     "name": "stderr",
     "output_type": "stream",
     "text": [
      "Epochs:  32%|███▏      | 955/3000 [02:53<06:12,  5.49it/s]\n"
     ]
    },
    {
     "name": "stdout",
     "output_type": "stream",
     "text": [
      "⏹️ Early stopping\n",
      "\n",
      "📈 Final Validation Metrics: {'MSE': 0.0055948524, 'MAE': 0.04657595, 'R2': 0.9777020197474705}\n",
      "✅ Done: input_seed859969\n",
      "📊 Metrics: R²=0.9777 | MSE=0.005595 | MAE=0.046576\n",
      "\n",
      "🌱 Starting training with seed 844071\n",
      "✅ Данные загружены в модель:\n",
      "X_train shape: torch.Size([547, 3, 9, 28])\n",
      "X_val shape: torch.Size([61, 3, 9, 28])\n"
     ]
    },
    {
     "name": "stderr",
     "output_type": "stream",
     "text": [
      "/tmp/ipykernel_19/1404025780.py:36: UserWarning: Glyph 127919 (\\N{DIRECT HIT}) missing from current font.\n",
      "  plt.tight_layout()\n",
      "/usr/local/lib/python3.11/dist-packages/IPython/core/pylabtools.py:151: UserWarning: Glyph 127919 (\\N{DIRECT HIT}) missing from current font.\n",
      "  fig.canvas.print_figure(bytes_io, **kw)\n"
     ]
    },
    {
     "data": {
      "image/png": "[encoded data removed]",
      "text/plain": [
       "<Figure size 1000x500 with 1 Axes>"
      ]
     },
     "metadata": {},
     "output_type": "display_data"
    },
    {
     "name": "stderr",
     "output_type": "stream",
     "text": [
      "Epochs:   0%|          | 2/3000 [00:00<10:25,  4.79it/s]"
     ]
    },
    {
     "name": "stdout",
     "output_type": "stream",
     "text": [
      "📉 Epoch 1 | Train Loss: 1.977996 | Val R2: -0.2722 | MAE: 0.5108 | MSE: 0.315189\n"
     ]
    },
    {
     "name": "stderr",
     "output_type": "stream",
     "text": [
      "Epochs:   3%|▎         | 101/3000 [00:18<08:52,  5.45it/s]"
     ]
    },
    {
     "name": "stdout",
     "output_type": "stream",
     "text": [
      "📉 Epoch 100 | Train Loss: 0.157545 | Val R2: 0.9534 | MAE: 0.0741 | MSE: 0.011545\n"
     ]
    },
    {
     "name": "stderr",
     "output_type": "stream",
     "text": [
      "Epochs:   7%|▋         | 201/3000 [00:36<08:35,  5.43it/s]"
     ]
    },
    {
     "name": "stdout",
     "output_type": "stream",
     "text": [
      "📉 Epoch 200 | Train Loss: 0.143208 | Val R2: 0.9512 | MAE: 0.0798 | MSE: 0.012085\n"
     ]
    },
    {
     "name": "stderr",
     "output_type": "stream",
     "text": [
      "Epochs:  10%|█         | 301/3000 [00:54<08:22,  5.37it/s]"
     ]
    },
    {
     "name": "stdout",
     "output_type": "stream",
     "text": [
      "📉 Epoch 300 | Train Loss: 0.088173 | Val R2: 0.9617 | MAE: 0.0694 | MSE: 0.009487\n"
     ]
    },
    {
     "name": "stderr",
     "output_type": "stream",
     "text": [
      "Epochs:  13%|█▎        | 401/3000 [01:13<07:56,  5.46it/s]"
     ]
    },
    {
     "name": "stdout",
     "output_type": "stream",
     "text": [
      "📉 Epoch 400 | Train Loss: 0.081619 | Val R2: 0.9714 | MAE: 0.0549 | MSE: 0.007075\n"
     ]
    },
    {
     "name": "stderr",
     "output_type": "stream",
     "text": [
      "Epochs:  17%|█▋        | 501/3000 [01:31<07:38,  5.45it/s]"
     ]
    },
    {
     "name": "stdout",
     "output_type": "stream",
     "text": [
      "📉 Epoch 500 | Train Loss: 0.082441 | Val R2: 0.9616 | MAE: 0.0683 | MSE: 0.009516\n"
     ]
    },
    {
     "name": "stderr",
     "output_type": "stream",
     "text": [
      "Epochs:  20%|██        | 601/3000 [01:49<07:19,  5.46it/s]"
     ]
    },
    {
     "name": "stdout",
     "output_type": "stream",
     "text": [
      "📉 Epoch 600 | Train Loss: 0.054050 | Val R2: 0.9721 | MAE: 0.0547 | MSE: 0.006916\n"
     ]
    },
    {
     "name": "stderr",
     "output_type": "stream",
     "text": [
      "Epochs:  20%|██        | 608/3000 [01:50<07:16,  5.48it/s]\n"
     ]
    },
    {
     "name": "stdout",
     "output_type": "stream",
     "text": [
      "⏹️ Early stopping\n",
      "\n",
      "📈 Final Validation Metrics: {'MSE': 0.0067200637, 'MAE': 0.053918656, 'R2': 0.9728760636045924}\n",
      "✅ Done: input_seed844071\n",
      "📊 Metrics: R²=0.9729 | MSE=0.006720 | MAE=0.053919\n",
      "\n",
      "🌱 Starting training with seed 578254\n",
      "✅ Данные загружены в модель:\n",
      "X_train shape: torch.Size([547, 3, 9, 28])\n",
      "X_val shape: torch.Size([61, 3, 9, 28])\n"
     ]
    },
    {
     "name": "stderr",
     "output_type": "stream",
     "text": [
      "/tmp/ipykernel_19/1404025780.py:36: UserWarning: Glyph 127919 (\\N{DIRECT HIT}) missing from current font.\n",
      "  plt.tight_layout()\n",
      "/usr/local/lib/python3.11/dist-packages/IPython/core/pylabtools.py:151: UserWarning: Glyph 127919 (\\N{DIRECT HIT}) missing from current font.\n",
      "  fig.canvas.print_figure(bytes_io, **kw)\n"
     ]
    },
    {
     "data": {
      "image/png": "[encoded data removed]",
      "text/plain": [
       "<Figure size 1000x500 with 1 Axes>"
      ]
     },
     "metadata": {},
     "output_type": "display_data"
    },
    {
     "name": "stderr",
     "output_type": "stream",
     "text": [
      "Epochs:   0%|          | 2/3000 [00:00<10:28,  4.77it/s]"
     ]
    },
    {
     "name": "stdout",
     "output_type": "stream",
     "text": [
      "📉 Epoch 1 | Train Loss: 1.811752 | Val R2: -0.4661 | MAE: 0.5243 | MSE: 0.335359\n"
     ]
    },
    {
     "name": "stderr",
     "output_type": "stream",
     "text": [
      "Epochs:   3%|▎         | 101/3000 [00:18<08:51,  5.45it/s]"
     ]
    },
    {
     "name": "stdout",
     "output_type": "stream",
     "text": [
      "📉 Epoch 100 | Train Loss: 0.137583 | Val R2: 0.9288 | MAE: 0.0855 | MSE: 0.016288\n"
     ]
    },
    {
     "name": "stderr",
     "output_type": "stream",
     "text": [
      "Epochs:   7%|▋         | 201/3000 [00:36<08:39,  5.39it/s]"
     ]
    },
    {
     "name": "stdout",
     "output_type": "stream",
     "text": [
      "📉 Epoch 200 | Train Loss: 0.105808 | Val R2: 0.9531 | MAE: 0.0741 | MSE: 0.010731\n"
     ]
    },
    {
     "name": "stderr",
     "output_type": "stream",
     "text": [
      "Epochs:  10%|█         | 301/3000 [00:54<08:19,  5.40it/s]"
     ]
    },
    {
     "name": "stdout",
     "output_type": "stream",
     "text": [
      "📉 Epoch 300 | Train Loss: 0.117038 | Val R2: 0.9579 | MAE: 0.0685 | MSE: 0.009621\n"
     ]
    },
    {
     "name": "stderr",
     "output_type": "stream",
     "text": [
      "Epochs:  13%|█▎        | 401/3000 [01:13<07:57,  5.45it/s]"
     ]
    },
    {
     "name": "stdout",
     "output_type": "stream",
     "text": [
      "📉 Epoch 400 | Train Loss: 0.068223 | Val R2: 0.9685 | MAE: 0.0585 | MSE: 0.007210\n"
     ]
    },
    {
     "name": "stderr",
     "output_type": "stream",
     "text": [
      "Epochs:  17%|█▋        | 501/3000 [01:31<07:41,  5.42it/s]"
     ]
    },
    {
     "name": "stdout",
     "output_type": "stream",
     "text": [
      "📉 Epoch 500 | Train Loss: 0.088004 | Val R2: 0.9645 | MAE: 0.0606 | MSE: 0.008109\n"
     ]
    },
    {
     "name": "stderr",
     "output_type": "stream",
     "text": [
      "Epochs:  18%|█▊        | 525/3000 [01:35<07:31,  5.48it/s]\n"
     ]
    },
    {
     "name": "stdout",
     "output_type": "stream",
     "text": [
      "⏹️ Early stopping\n",
      "\n",
      "📈 Final Validation Metrics: {'MSE': 0.0068380916, 'MAE': 0.056378003, 'R2': 0.9701051192607636}\n",
      "✅ Done: input_seed578254\n",
      "📊 Metrics: R²=0.9701 | MSE=0.006838 | MAE=0.056378\n",
      "\n",
      "🌱 Starting training with seed 154423\n",
      "✅ Данные загружены в модель:\n",
      "X_train shape: torch.Size([547, 3, 9, 28])\n",
      "X_val shape: torch.Size([61, 3, 9, 28])\n"
     ]
    },
    {
     "name": "stderr",
     "output_type": "stream",
     "text": [
      "/tmp/ipykernel_19/1404025780.py:36: UserWarning: Glyph 127919 (\\N{DIRECT HIT}) missing from current font.\n",
      "  plt.tight_layout()\n",
      "/usr/local/lib/python3.11/dist-packages/IPython/core/pylabtools.py:151: UserWarning: Glyph 127919 (\\N{DIRECT HIT}) missing from current font.\n",
      "  fig.canvas.print_figure(bytes_io, **kw)\n"
     ]
    },
    {
     "data": {
      "image/png": "[encoded data removed]",
      "text/plain": [
       "<Figure size 1000x500 with 1 Axes>"
      ]
     },
     "metadata": {},
     "output_type": "display_data"
    },
    {
     "name": "stderr",
     "output_type": "stream",
     "text": [
      "Epochs:   0%|          | 2/3000 [00:00<10:18,  4.84it/s]"
     ]
    },
    {
     "name": "stdout",
     "output_type": "stream",
     "text": [
      "📉 Epoch 1 | Train Loss: 1.867593 | Val R2: -0.1103 | MAE: 0.4855 | MSE: 0.286967\n"
     ]
    },
    {
     "name": "stderr",
     "output_type": "stream",
     "text": [
      "Epochs:   3%|▎         | 101/3000 [00:18<08:47,  5.50it/s]"
     ]
    },
    {
     "name": "stdout",
     "output_type": "stream",
     "text": [
      "📉 Epoch 100 | Train Loss: 0.163551 | Val R2: 0.9460 | MAE: 0.0815 | MSE: 0.013944\n"
     ]
    },
    {
     "name": "stderr",
     "output_type": "stream",
     "text": [
      "Epochs:   7%|▋         | 201/3000 [00:36<08:31,  5.47it/s]"
     ]
    },
    {
     "name": "stdout",
     "output_type": "stream",
     "text": [
      "📉 Epoch 200 | Train Loss: 0.095806 | Val R2: 0.9651 | MAE: 0.0637 | MSE: 0.009032\n"
     ]
    },
    {
     "name": "stderr",
     "output_type": "stream",
     "text": [
      "Epochs:  10%|█         | 301/3000 [00:54<08:11,  5.50it/s]"
     ]
    },
    {
     "name": "stdout",
     "output_type": "stream",
     "text": [
      "📉 Epoch 300 | Train Loss: 0.125818 | Val R2: 0.9689 | MAE: 0.0601 | MSE: 0.008037\n"
     ]
    },
    {
     "name": "stderr",
     "output_type": "stream",
     "text": [
      "Epochs:  13%|█▎        | 401/3000 [01:12<07:55,  5.47it/s]"
     ]
    },
    {
     "name": "stdout",
     "output_type": "stream",
     "text": [
      "📉 Epoch 400 | Train Loss: 0.094320 | Val R2: 0.9672 | MAE: 0.0602 | MSE: 0.008489\n"
     ]
    },
    {
     "name": "stderr",
     "output_type": "stream",
     "text": [
      "Epochs:  17%|█▋        | 501/3000 [01:31<07:32,  5.52it/s]"
     ]
    },
    {
     "name": "stdout",
     "output_type": "stream",
     "text": [
      "📉 Epoch 500 | Train Loss: 0.069041 | Val R2: 0.9706 | MAE: 0.0569 | MSE: 0.007590\n"
     ]
    },
    {
     "name": "stderr",
     "output_type": "stream",
     "text": [
      "Epochs:  20%|██        | 601/3000 [01:49<07:15,  5.51it/s]"
     ]
    },
    {
     "name": "stdout",
     "output_type": "stream",
     "text": [
      "📉 Epoch 600 | Train Loss: 0.113305 | Val R2: 0.9627 | MAE: 0.0643 | MSE: 0.009631\n"
     ]
    },
    {
     "name": "stderr",
     "output_type": "stream",
     "text": [
      "Epochs:  23%|██▎       | 701/3000 [02:07<06:57,  5.51it/s]"
     ]
    },
    {
     "name": "stdout",
     "output_type": "stream",
     "text": [
      "📉 Epoch 700 | Train Loss: 0.083783 | Val R2: 0.9653 | MAE: 0.0616 | MSE: 0.008964\n"
     ]
    },
    {
     "name": "stderr",
     "output_type": "stream",
     "text": [
      "Epochs:  27%|██▋       | 801/3000 [02:25<06:39,  5.50it/s]"
     ]
    },
    {
     "name": "stdout",
     "output_type": "stream",
     "text": [
      "📉 Epoch 800 | Train Loss: 0.068229 | Val R2: 0.9532 | MAE: 0.0716 | MSE: 0.012097\n"
     ]
    },
    {
     "name": "stderr",
     "output_type": "stream",
     "text": [
      "Epochs:  30%|███       | 901/3000 [02:43<06:25,  5.45it/s]"
     ]
    },
    {
     "name": "stdout",
     "output_type": "stream",
     "text": [
      "📉 Epoch 900 | Train Loss: 0.059443 | Val R2: 0.9114 | MAE: 0.0855 | MSE: 0.022900\n"
     ]
    },
    {
     "name": "stderr",
     "output_type": "stream",
     "text": [
      "Epochs:  33%|███▎      | 1001/3000 [03:02<06:05,  5.46it/s]"
     ]
    },
    {
     "name": "stdout",
     "output_type": "stream",
     "text": [
      "📉 Epoch 1000 | Train Loss: 0.072858 | Val R2: 0.9644 | MAE: 0.0635 | MSE: 0.009203\n"
     ]
    },
    {
     "name": "stderr",
     "output_type": "stream",
     "text": [
      "Epochs:  34%|███▍      | 1016/3000 [03:04<06:01,  5.49it/s]\n"
     ]
    },
    {
     "name": "stdout",
     "output_type": "stream",
     "text": [
      "⏹️ Early stopping\n",
      "\n",
      "📈 Final Validation Metrics: {'MSE': 0.0052425424, 'MAE': 0.045552865, 'R2': 0.9797154972566092}\n",
      "✅ Done: input_seed154423\n",
      "📊 Metrics: R²=0.9797 | MSE=0.005243 | MAE=0.045553\n",
      "\n",
      "🌱 Starting training with seed 226348\n",
      "✅ Данные загружены в модель:\n",
      "X_train shape: torch.Size([547, 3, 9, 28])\n",
      "X_val shape: torch.Size([61, 3, 9, 28])\n"
     ]
    },
    {
     "name": "stderr",
     "output_type": "stream",
     "text": [
      "/tmp/ipykernel_19/1404025780.py:36: UserWarning: Glyph 127919 (\\N{DIRECT HIT}) missing from current font.\n",
      "  plt.tight_layout()\n",
      "/usr/local/lib/python3.11/dist-packages/IPython/core/pylabtools.py:151: UserWarning: Glyph 127919 (\\N{DIRECT HIT}) missing from current font.\n",
      "  fig.canvas.print_figure(bytes_io, **kw)\n"
     ]
    },
    {
     "data": {
      "image/png": "[encoded data removed]",
      "text/plain": [
       "<Figure size 1000x500 with 1 Axes>"
      ]
     },
     "metadata": {},
     "output_type": "display_data"
    },
    {
     "name": "stderr",
     "output_type": "stream",
     "text": [
      "Epochs:   0%|          | 2/3000 [00:00<10:32,  4.74it/s]"
     ]
    },
    {
     "name": "stdout",
     "output_type": "stream",
     "text": [
      "📉 Epoch 1 | Train Loss: 1.797214 | Val R2: -0.2318 | MAE: 0.5134 | MSE: 0.312393\n"
     ]
    },
    {
     "name": "stderr",
     "output_type": "stream",
     "text": [
      "Epochs:   3%|▎         | 101/3000 [00:18<08:50,  5.46it/s]"
     ]
    },
    {
     "name": "stdout",
     "output_type": "stream",
     "text": [
      "📉 Epoch 100 | Train Loss: 0.257053 | Val R2: 0.9472 | MAE: 0.0827 | MSE: 0.013402\n"
     ]
    },
    {
     "name": "stderr",
     "output_type": "stream",
     "text": [
      "Epochs:   7%|▋         | 201/3000 [00:36<08:35,  5.43it/s]"
     ]
    },
    {
     "name": "stdout",
     "output_type": "stream",
     "text": [
      "📉 Epoch 200 | Train Loss: 0.117741 | Val R2: 0.9612 | MAE: 0.0666 | MSE: 0.009830\n"
     ]
    },
    {
     "name": "stderr",
     "output_type": "stream",
     "text": [
      "Epochs:  10%|█         | 301/3000 [00:54<08:14,  5.45it/s]"
     ]
    },
    {
     "name": "stdout",
     "output_type": "stream",
     "text": [
      "📉 Epoch 300 | Train Loss: 0.090700 | Val R2: 0.9719 | MAE: 0.0582 | MSE: 0.007117\n"
     ]
    },
    {
     "name": "stderr",
     "output_type": "stream",
     "text": [
      "Epochs:  13%|█▎        | 401/3000 [01:13<07:56,  5.46it/s]"
     ]
    },
    {
     "name": "stdout",
     "output_type": "stream",
     "text": [
      "📉 Epoch 400 | Train Loss: 0.078136 | Val R2: 0.9667 | MAE: 0.0608 | MSE: 0.008447\n"
     ]
    },
    {
     "name": "stderr",
     "output_type": "stream",
     "text": [
      "Epochs:  17%|█▋        | 501/3000 [01:31<07:34,  5.50it/s]"
     ]
    },
    {
     "name": "stdout",
     "output_type": "stream",
     "text": [
      "📉 Epoch 500 | Train Loss: 0.126468 | Val R2: 0.9453 | MAE: 0.0777 | MSE: 0.013871\n"
     ]
    },
    {
     "name": "stderr",
     "output_type": "stream",
     "text": [
      "Epochs:  20%|██        | 601/3000 [01:49<07:19,  5.46it/s]"
     ]
    },
    {
     "name": "stdout",
     "output_type": "stream",
     "text": [
      "📉 Epoch 600 | Train Loss: 0.054588 | Val R2: 0.9788 | MAE: 0.0474 | MSE: 0.005374\n"
     ]
    },
    {
     "name": "stderr",
     "output_type": "stream",
     "text": [
      "Epochs:  23%|██▎       | 701/3000 [02:07<07:02,  5.44it/s]"
     ]
    },
    {
     "name": "stdout",
     "output_type": "stream",
     "text": [
      "📉 Epoch 700 | Train Loss: 0.071443 | Val R2: 0.9723 | MAE: 0.0547 | MSE: 0.007025\n"
     ]
    },
    {
     "name": "stderr",
     "output_type": "stream",
     "text": [
      "Epochs:  25%|██▍       | 749/3000 [02:16<06:50,  5.49it/s]\n"
     ]
    },
    {
     "name": "stdout",
     "output_type": "stream",
     "text": [
      "⏹️ Early stopping\n",
      "\n",
      "📈 Final Validation Metrics: {'MSE': 0.0059993346, 'MAE': 0.049484264, 'R2': 0.976344041019708}\n",
      "✅ Done: input_seed226348\n",
      "📊 Metrics: R²=0.9763 | MSE=0.005999 | MAE=0.049484\n",
      "\n",
      "🌱 Starting training with seed 333787\n",
      "✅ Данные загружены в модель:\n",
      "X_train shape: torch.Size([547, 3, 9, 28])\n",
      "X_val shape: torch.Size([61, 3, 9, 28])\n"
     ]
    },
    {
     "name": "stderr",
     "output_type": "stream",
     "text": [
      "/tmp/ipykernel_19/1404025780.py:36: UserWarning: Glyph 127919 (\\N{DIRECT HIT}) missing from current font.\n",
      "  plt.tight_layout()\n",
      "/usr/local/lib/python3.11/dist-packages/IPython/core/pylabtools.py:151: UserWarning: Glyph 127919 (\\N{DIRECT HIT}) missing from current font.\n",
      "  fig.canvas.print_figure(bytes_io, **kw)\n"
     ]
    },
    {
     "data": {
      "image/png": "[encoded data removed]",
      "text/plain": [
       "<Figure size 1000x500 with 1 Axes>"
      ]
     },
     "metadata": {},
     "output_type": "display_data"
    },
    {
     "name": "stderr",
     "output_type": "stream",
     "text": [
      "Epochs:   0%|          | 2/3000 [00:00<10:35,  4.71it/s]"
     ]
    },
    {
     "name": "stdout",
     "output_type": "stream",
     "text": [
      "📉 Epoch 1 | Train Loss: 1.996186 | Val R2: -0.2864 | MAE: 0.5016 | MSE: 0.303332\n"
     ]
    },
    {
     "name": "stderr",
     "output_type": "stream",
     "text": [
      "Epochs:   3%|▎         | 101/3000 [00:18<08:53,  5.43it/s]"
     ]
    },
    {
     "name": "stdout",
     "output_type": "stream",
     "text": [
      "📉 Epoch 100 | Train Loss: 0.144012 | Val R2: 0.9498 | MAE: 0.0763 | MSE: 0.011841\n"
     ]
    },
    {
     "name": "stderr",
     "output_type": "stream",
     "text": [
      "Epochs:   7%|▋         | 201/3000 [00:36<08:35,  5.43it/s]"
     ]
    },
    {
     "name": "stdout",
     "output_type": "stream",
     "text": [
      "📉 Epoch 200 | Train Loss: 0.130108 | Val R2: 0.9417 | MAE: 0.0800 | MSE: 0.013743\n"
     ]
    },
    {
     "name": "stderr",
     "output_type": "stream",
     "text": [
      "Epochs:  10%|█         | 301/3000 [00:54<08:14,  5.46it/s]"
     ]
    },
    {
     "name": "stdout",
     "output_type": "stream",
     "text": [
      "📉 Epoch 300 | Train Loss: 0.089201 | Val R2: 0.9578 | MAE: 0.0653 | MSE: 0.009939\n"
     ]
    },
    {
     "name": "stderr",
     "output_type": "stream",
     "text": [
      "Epochs:  13%|█▎        | 401/3000 [01:13<07:54,  5.48it/s]"
     ]
    },
    {
     "name": "stdout",
     "output_type": "stream",
     "text": [
      "📉 Epoch 400 | Train Loss: 0.076993 | Val R2: 0.9687 | MAE: 0.0571 | MSE: 0.007371\n"
     ]
    },
    {
     "name": "stderr",
     "output_type": "stream",
     "text": [
      "Epochs:  17%|█▋        | 501/3000 [01:31<07:34,  5.50it/s]"
     ]
    },
    {
     "name": "stdout",
     "output_type": "stream",
     "text": [
      "📉 Epoch 500 | Train Loss: 0.110034 | Val R2: 0.9470 | MAE: 0.0733 | MSE: 0.012497\n"
     ]
    },
    {
     "name": "stderr",
     "output_type": "stream",
     "text": [
      "Epochs:  20%|██        | 601/3000 [01:49<07:20,  5.45it/s]"
     ]
    },
    {
     "name": "stdout",
     "output_type": "stream",
     "text": [
      "📉 Epoch 600 | Train Loss: 0.064849 | Val R2: 0.9734 | MAE: 0.0536 | MSE: 0.006271\n"
     ]
    },
    {
     "name": "stderr",
     "output_type": "stream",
     "text": [
      "Epochs:  23%|██▎       | 701/3000 [02:07<07:01,  5.46it/s]"
     ]
    },
    {
     "name": "stdout",
     "output_type": "stream",
     "text": [
      "📉 Epoch 700 | Train Loss: 0.056837 | Val R2: 0.9699 | MAE: 0.0593 | MSE: 0.007090\n"
     ]
    },
    {
     "name": "stderr",
     "output_type": "stream",
     "text": [
      "Epochs:  27%|██▋       | 801/3000 [02:25<06:41,  5.48it/s]"
     ]
    },
    {
     "name": "stdout",
     "output_type": "stream",
     "text": [
      "📉 Epoch 800 | Train Loss: 0.082056 | Val R2: 0.9719 | MAE: 0.0539 | MSE: 0.006623\n"
     ]
    },
    {
     "name": "stderr",
     "output_type": "stream",
     "text": [
      "Epochs:  30%|███       | 901/3000 [02:43<06:24,  5.45it/s]"
     ]
    },
    {
     "name": "stdout",
     "output_type": "stream",
     "text": [
      "📉 Epoch 900 | Train Loss: 0.040525 | Val R2: 0.9736 | MAE: 0.0516 | MSE: 0.006215\n"
     ]
    },
    {
     "name": "stderr",
     "output_type": "stream",
     "text": [
      "Epochs:  33%|███▎      | 1001/3000 [03:02<06:10,  5.40it/s]"
     ]
    },
    {
     "name": "stdout",
     "output_type": "stream",
     "text": [
      "📉 Epoch 1000 | Train Loss: 0.089867 | Val R2: 0.9679 | MAE: 0.0560 | MSE: 0.007571\n"
     ]
    },
    {
     "name": "stderr",
     "output_type": "stream",
     "text": [
      "Epochs:  37%|███▋      | 1101/3000 [03:20<05:46,  5.47it/s]"
     ]
    },
    {
     "name": "stdout",
     "output_type": "stream",
     "text": [
      "📉 Epoch 1100 | Train Loss: 0.058134 | Val R2: 0.9711 | MAE: 0.0543 | MSE: 0.006805\n"
     ]
    },
    {
     "name": "stderr",
     "output_type": "stream",
     "text": [
      "Epochs:  40%|████      | 1201/3000 [03:38<05:29,  5.45it/s]"
     ]
    },
    {
     "name": "stdout",
     "output_type": "stream",
     "text": [
      "📉 Epoch 1200 | Train Loss: 0.040113 | Val R2: 0.9772 | MAE: 0.0463 | MSE: 0.005376\n"
     ]
    },
    {
     "name": "stderr",
     "output_type": "stream",
     "text": [
      "Epochs:  43%|████▎     | 1298/3000 [03:56<05:09,  5.49it/s]"
     ]
    },
    {
     "name": "stdout",
     "output_type": "stream",
     "text": [
      "⏹️ Early stopping\n",
      "\n",
      "📈 Final Validation Metrics: {'MSE': 0.005272269, 'MAE': 0.046476692, 'R2': 0.9776403897351473}\n",
      "✅ Done: input_seed333787\n",
      "📊 Metrics: R²=0.9776 | MSE=0.005272 | MAE=0.046477\n",
      "\n",
      "🏆 Лучший запуск:\n",
      "🆔 Run ID: input_seed492136\n",
      "📈 R²: 0.9801\n",
      "📉 MAE: 0.0465\n",
      "📉 MSE: 0.005135\n"
     ]
    },
    {
     "name": "stderr",
     "output_type": "stream",
     "text": [
      "\n"
     ]
    }
   ],
   "source": [
    "all_results = []\n",
    "\n",
    "# === Установка сидов\n",
    "def set_seed(seed=42):\n",
    "    random.seed(seed)\n",
    "    np.random.seed(seed)\n",
    "    torch.manual_seed(seed)\n",
    "    torch.cuda.manual_seed_all(seed)\n",
    "    torch.backends.cudnn.deterministic = True\n",
    "    torch.backends.cudnn.benchmark = False\n",
    "\n",
    "# === Загрузка данных и конфига\n",
    "with open(CONFIG_PATH, \"r\") as f:\n",
    "    config = json.load(f)\n",
    "\n",
    "\n",
    "X_all = np.load(DATA_ROOT / \"X_cnn.npy\")\n",
    "Y_all = np.load(DATA_ROOT / \"Y_cnn.npy\")\n",
    "\n",
    "# === Цикл по сидом\n",
    "NUM_RUNS = 10\n",
    "random.seed(int(time.time()))  # или просто random.seed() для более случайной генерации\n",
    "seeds = random.sample(range(1_000_000), NUM_RUNS)  # 10 уникальных случайных seed\n",
    "base_run_id = CONFIG_PATH.parent.name\n",
    "print('seeds:', seeds)\n",
    "\n",
    "best_r2 = -np.inf\n",
    "\n",
    "for seed in seeds:\n",
    "    print(f\"\\n🌱 Starting training with seed {seed}\")\n",
    "    set_seed(seed)\n",
    "\n",
    "    # 💡 Разбиение train/val с текущим сидом\n",
    "    X_train, X_val, Y_train, Y_val = train_test_split(\n",
    "        X_all, Y_all, test_size=0.1, random_state=seed\n",
    "    )\n",
    "\n",
    "    # 🔁 Создание новой копии конфига\n",
    "    config_run = config.copy()\n",
    "    run_id = f\"{base_run_id}_seed{seed}\"\n",
    "    config_run[\"seed\"] = seed\n",
    "    config_run[\"run_id\"] = run_id\n",
    "\n",
    "    model, metrics, best_r2 = train_cnn(\n",
    "        lr=config_run[\"lr\"],\n",
    "        batch_size=config_run[\"batch_size\"],\n",
    "        epochs=config_run[\"epochs\"],\n",
    "        input_channels=config_run[\"input_channels\"],\n",
    "        activation_fn=getattr(torch.nn, config_run[\"activation_fn\"]),\n",
    "        optimizer_name=config_run[\"optimizer\"],\n",
    "        loss_fn=getattr(torch.nn, config_run[\"loss_fn\"]),\n",
    "        filters=config_run[\"filters\"],\n",
    "        use_batchnorm=config_run[\"batchnorm\"],\n",
    "        run_id=run_id,\n",
    "        X_train=X_train,\n",
    "        Y_train=Y_train,\n",
    "        X_val=X_val,\n",
    "        Y_val=Y_val,\n",
    "        best_r2 = best_r2\n",
    "    )\n",
    "\n",
    "    all_results.append({\n",
    "        \"run_id\": run_id,\n",
    "        \"seed\": seed,\n",
    "        \"R2\": metrics[\"R2\"],\n",
    "        \"MAE\": metrics[\"MAE\"],\n",
    "        \"MSE\": metrics[\"MSE\"]\n",
    "    })\n",
    "\n",
    "    print(f\"✅ Done: {run_id}\")\n",
    "    print(f\"📊 Metrics: R²={metrics['R2']:.4f} | MSE={metrics['MSE']:.6f} | MAE={metrics['MAE']:.6f}\")\n",
    "\n",
    "    # === Логирование в CSV\n",
    "    log_header = \"run_id,seed,lr,batch_size,activation_fn,optimizer,filters,R2,MAE,MSE\\n\"\n",
    "\n",
    "    log_line = (\n",
    "        f\"{run_id},{seed},{config_run['lr']:.0e},{config_run['batch_size']},\"\n",
    "        f\"{config_run['activation_fn']},{config_run['optimizer']},\"\n",
    "        f\"\\\"{config_run['filters']}\\\",{metrics['R2']:.4f},{metrics['MAE']:.4f},{metrics['MSE']:.6f}\\n\"\n",
    "    )\n",
    "\n",
    "    # Создаём файл, если его ещё нет\n",
    "    write_header = not os.path.exists(LOG_CSV_PATH)\n",
    "\n",
    "    with open(LOG_CSV_PATH, \"a\") as f:\n",
    "        if write_header:\n",
    "            f.write(log_header)\n",
    "        f.write(log_line)\n",
    "\n",
    "# Найдём лучший результат\n",
    "best_result = max(all_results, key=lambda x: x[\"R2\"])\n",
    "\n",
    "# Выводим\n",
    "print(\"\\n🏆 Лучший запуск:\")\n",
    "print(f\"🆔 Run ID: {best_result['run_id']}\")\n",
    "print(f\"📈 R²: {best_result['R2']:.4f}\")\n",
    "print(f\"📉 MAE: {best_result['MAE']:.4f}\")\n",
    "print(f\"📉 MSE: {best_result['MSE']:.6f}\")\n"
   ]
  },
  {
   "cell_type": "code",
   "execution_count": 7,
   "id": "76c6d914",
   "metadata": {
    "execution": {
     "iopub.execute_input": "2025-06-09T08:56:36.529829Z",
     "iopub.status.busy": "2025-06-09T08:56:36.529381Z",
     "iopub.status.idle": "2025-06-09T08:56:37.450750Z",
     "shell.execute_reply": "2025-06-09T08:56:37.450086Z"
    },
    "papermill": {
     "duration": 1.276412,
     "end_time": "2025-06-09T08:56:37.452740",
     "exception": false,
     "start_time": "2025-06-09T08:56:36.176328",
     "status": "completed"
    },
    "tags": []
   },
   "outputs": [
    {
     "name": "stderr",
     "output_type": "stream",
     "text": [
      "/usr/local/lib/python3.11/dist-packages/seaborn/_oldcore.py:1119: FutureWarning: use_inf_as_na option is deprecated and will be removed in a future version. Convert inf values to NaN before operating instead.\n",
      "  with pd.option_context('mode.use_inf_as_na', True):\n",
      "/usr/local/lib/python3.11/dist-packages/seaborn/_oldcore.py:1119: FutureWarning: use_inf_as_na option is deprecated and will be removed in a future version. Convert inf values to NaN before operating instead.\n",
      "  with pd.option_context('mode.use_inf_as_na', True):\n",
      "/usr/local/lib/python3.11/dist-packages/seaborn/_oldcore.py:1119: FutureWarning: use_inf_as_na option is deprecated and will be removed in a future version. Convert inf values to NaN before operating instead.\n",
      "  with pd.option_context('mode.use_inf_as_na', True):\n",
      "/tmp/ipykernel_19/2889097417.py:56: UserWarning: Glyph 128200 (\\N{CHART WITH UPWARDS TREND}) missing from current font.\n",
      "  plt.tight_layout()\n",
      "/tmp/ipykernel_19/2889097417.py:56: UserWarning: Glyph 127919 (\\N{DIRECT HIT}) missing from current font.\n",
      "  plt.tight_layout()\n",
      "/tmp/ipykernel_19/2889097417.py:56: UserWarning: Glyph 128201 (\\N{CHART WITH DOWNWARDS TREND}) missing from current font.\n",
      "  plt.tight_layout()\n",
      "/tmp/ipykernel_19/2889097417.py:57: UserWarning: Glyph 128200 (\\N{CHART WITH UPWARDS TREND}) missing from current font.\n",
      "  plt.savefig(fig_path)\n",
      "/tmp/ipykernel_19/2889097417.py:57: UserWarning: Glyph 127919 (\\N{DIRECT HIT}) missing from current font.\n",
      "  plt.savefig(fig_path)\n",
      "/tmp/ipykernel_19/2889097417.py:57: UserWarning: Glyph 128201 (\\N{CHART WITH DOWNWARDS TREND}) missing from current font.\n",
      "  plt.savefig(fig_path)\n",
      "/usr/local/lib/python3.11/dist-packages/IPython/core/pylabtools.py:151: UserWarning: Glyph 128200 (\\N{CHART WITH UPWARDS TREND}) missing from current font.\n",
      "  fig.canvas.print_figure(bytes_io, **kw)\n",
      "/usr/local/lib/python3.11/dist-packages/IPython/core/pylabtools.py:151: UserWarning: Glyph 127919 (\\N{DIRECT HIT}) missing from current font.\n",
      "  fig.canvas.print_figure(bytes_io, **kw)\n",
      "/usr/local/lib/python3.11/dist-packages/IPython/core/pylabtools.py:151: UserWarning: Glyph 128201 (\\N{CHART WITH DOWNWARDS TREND}) missing from current font.\n",
      "  fig.canvas.print_figure(bytes_io, **kw)\n"
     ]
    },
    {
     "data": {
      "image/png": "[encoded data removed]",
      "text/plain": [
       "<Figure size 1600x500 with 3 Axes>"
      ]
     },
     "metadata": {},
     "output_type": "display_data"
    },
    {
     "name": "stdout",
     "output_type": "stream",
     "text": [
      "✅ Stability analysis complete:\n",
      "{\n",
      "    \"R2_mean\": 0.9762,\n",
      "    \"R2_std\": 0.0041,\n",
      "    \"MAE_mean\": 0.0495,\n",
      "    \"MAE_std\": 0.0049,\n",
      "    \"MSE_mean\": 0.005848,\n",
      "    \"MSE_std\": 0.00085,\n",
      "    \"runs\": 10\n",
      "}\n",
      "📁 Saved metrics: /kaggle/working/stability_working.json\n",
      "🖼️  Saved plot: /kaggle/working/stability_plot_working.png\n"
     ]
    }
   ],
   "source": [
    "# 📁 src/tuning/analyze_stability.py\n",
    "\n",
    "# 📌 Пути (адаптируй под свой путь к лог-файлу)\n",
    "\n",
    "LOG_CSV_PATH = SAVE_ROOT / \"stability_log.csv\"\n",
    "ARCH_LABEL = SAVE_ROOT.name  # используем имя папки как ярлык модели\n",
    "\n",
    "# 📥 Загрузка результатов\n",
    "df = pd.read_csv(LOG_CSV_PATH)\n",
    "\n",
    "# ➕ Добавим колонку run по индексу\n",
    "df[\"run\"] = range(1, len(df) + 1)\n",
    "\n",
    "# 📊 Подсчёт статистик стабильности\n",
    "stability = {\n",
    "    \"R2_mean\":  round(df[\"R2\"].mean(), 4),\n",
    "    \"R2_std\":   round(df[\"R2\"].std(), 4),\n",
    "    \"MAE_mean\": round(df[\"MAE\"].mean(), 4),\n",
    "    \"MAE_std\":  round(df[\"MAE\"].std(), 4),\n",
    "    \"MSE_mean\": round(df[\"MSE\"].mean(), 6),\n",
    "    \"MSE_std\":  round(df[\"MSE\"].std(), 6),\n",
    "    \"runs\": len(df)\n",
    "}\n",
    "\n",
    "# 💾 Сохраняем метрики\n",
    "stability_path = SAVE_ROOT / f\"stability_{ARCH_LABEL}.json\"\n",
    "with open(stability_path, \"w\") as f:\n",
    "    json.dump(stability, f, indent=4)\n",
    "\n",
    "# 📈 Визуализация\n",
    "plt.figure(figsize=(16, 5))\n",
    "\n",
    "# ➤ R² по прогонам\n",
    "plt.subplot(1, 3, 1)\n",
    "sns.lineplot(x=\"run\", y=\"R2\", data=df, marker=\"o\", linewidth=1.5)\n",
    "plt.title(\"📈 R² over Runs\")\n",
    "plt.xlabel(\"Run #\")\n",
    "plt.ylabel(\"R²\")\n",
    "plt.grid(True)\n",
    "\n",
    "# ➤ Boxplot R²\n",
    "plt.subplot(1, 3, 2)\n",
    "sns.boxplot(y=\"R2\", data=df)\n",
    "plt.title(\"🎯 R² Distribution\")\n",
    "plt.grid(True)\n",
    "\n",
    "# ➤ Гистограмма MAE\n",
    "plt.subplot(1, 3, 3)\n",
    "sns.histplot(df[\"MAE\"], bins=20, kde=True)\n",
    "plt.title(\"📉 MAE Distribution\")\n",
    "plt.xlabel(\"MAE\")\n",
    "plt.grid(True)\n",
    "\n",
    "# 💾 Сохраняем график\n",
    "fig_path = SAVE_ROOT / f\"stability_plot_{ARCH_LABEL}.png\"\n",
    "plt.tight_layout()\n",
    "plt.savefig(fig_path)\n",
    "plt.show()\n",
    "\n",
    "# ✅ Вывод\n",
    "print(\"✅ Stability analysis complete:\")\n",
    "print(json.dumps(stability, indent=4))\n",
    "print(f\"📁 Saved metrics: {stability_path}\")\n",
    "print(f\"🖼️  Saved plot: {fig_path}\")\n"
   ]
  },
  {
   "cell_type": "code",
   "execution_count": null,
   "id": "ac397dec",
   "metadata": {},
   "outputs": [],
   "source": [
    "# ➤ Класс CNN-модели (предполагаем, что он уже определён выше)\n",
    "# class WindPressureCNN(nn.Module): ...\n",
    "\n",
    "# 📍 Укажи путь к конфигу и весам\n",
    "CONFIG_PATH = \"/mnt/d/projects/wind_pressure_prediction_CNN/final_models/cnn_2e-04lr_64bs_ELU_16f/cnn_2e-04lr_64bs_ELU_16f.json\"\n",
    "MODEL_SAVE_PATH = \"/mnt/d/projects/wind_pressure_prediction_CNN/final_models/cnn_2e-04lr_64bs_ELU_16f/best_input_seed882593_ELU_Adam.pth\"\n",
    "\n",
    "# ➤ Загружаем конфиг\n",
    "with open(CONFIG_PATH, \"r\") as f:\n",
    "    config = json.load(f)\n",
    "\n",
    "# ➤ Преобразуем имя функции активации в класс\n",
    "activation_map = {\n",
    "    \"ReLU\": nn.ReLU,\n",
    "    \"Tanh\": nn.Tanh,\n",
    "    \"Sigmoid\": nn.Sigmoid,\n",
    "    \"LeakyReLU\": nn.LeakyReLU,\n",
    "    \"ELU\": nn.ELU,\n",
    "    \"SELU\": nn.SELU,\n",
    "    \"GELU\": nn.GELU\n",
    "}\n",
    "\n",
    "\n",
    "activation_fn = activation_map[config[\"activation_fn\"]]\n",
    "\n",
    "# ➤ Воссоздаём модель\n",
    "model = WindPressureCNN(\n",
    "    input_channels=config[\"input_channels\"],\n",
    "    filters=config[\"filters\"],\n",
    "    activation_fn=activation_fn,\n",
    "    use_batchnorm=config[\"batchnorm\"]\n",
    ")\n",
    "\n",
    "# ✅ ЗАГРУЖАЕМ ВЕСА НА CPU\n",
    "model.load_state_dict(torch.load(MODEL_SAVE_PATH, map_location=torch.device('cpu')))\n",
    "model.eval()  # переводим в режим оценки\n",
    "\n",
    "print(\"✅ Модель успешно восстановлена и готова к использованию.\")\n",
    "\n",
    "# ➤ Путь к данным\n",
    "X_PATH = \"/mnt/d/projects/wind_pressure_prediction_CNN/data/processed/cnn_input/X_cnn.npy\"\n",
    "Y_PATH = \"/mnt/d/projects/wind_pressure_prediction_CNN/data/processed/cnn_input/Y_cnn.npy\"\n",
    "\n",
    "# ➤ Загрузка данных\n",
    "X_all = np.load(X_PATH)\n",
    "Y_all = np.load(Y_PATH)\n",
    "\n",
    "print(\"📦 Загружены данные:\")\n",
    "print(\"X_all:\", X_all.shape)\n",
    "print(\"Y_all:\", Y_all.shape)\n",
    "\n",
    "# ➤ Выбор случайного примера\n",
    "idx = random.randint(0, len(X_all) - 1)\n",
    "X_sample = torch.tensor(X_all[idx:idx+1], dtype=torch.float32)  # shape: [1, C, H, W]\n",
    "Y_true = Y_all[idx]  # shape: [1, H, W] или [H, W]\n",
    "\n",
    "# ➤ Предсказание модели\n",
    "with torch.no_grad():\n",
    "    Y_pred = model(X_sample).squeeze().cpu().numpy()\n",
    "\n",
    "# ➤ Визуализация\n",
    "fig, axs = plt.subplots(1, 2, figsize=(10, 4))\n",
    "axs[0].imshow(Y_true.squeeze(), cmap='viridis')\n",
    "axs[0].set_title(\"🎯 Истинное давление\")\n",
    "\n",
    "axs[1].imshow(Y_pred.squeeze(), cmap='viridis')\n",
    "axs[1].set_title(\"🔮 Предсказанное моделью\")\n",
    "\n",
    "plt.tight_layout()\n",
    "plt.show()\n"
   ]
  }
 ],
 "metadata": {
  "kaggle": {
   "accelerator": "nvidiaTeslaT4",
   "dataSources": [
    {
     "databundleVersionId": 12634757,
     "datasetId": 7602622,
     "sourceId": 12105256,
     "sourceType": "datasetVersion"
    }
   ],
   "dockerImageVersionId": 31041,
   "isGpuEnabled": true,
   "isInternetEnabled": false,
   "language": "python",
   "sourceType": "notebook"
  },
  "kernelspec": {
   "display_name": "linux_wpp_cnn",
   "language": "python",
   "name": "python3"
  },
  "language_info": {
   "codemirror_mode": {
    "name": "ipython",
    "version": 3
   },
   "file_extension": ".py",
   "mimetype": "text/x-python",
   "name": "python",
   "nbconvert_exporter": "python",
   "pygments_lexer": "ipython3",
   "version": "3.12.3"
  },
  "papermill": {
   "default_parameters": {},
   "duration": 1628.044387,
   "end_time": "2025-06-09T08:56:40.805505",
   "environment_variables": {},
   "exception": null,
   "input_path": "__notebook__.ipynb",
   "output_path": "__notebook__.ipynb",
   "parameters": {},
   "start_time": "2025-06-09T08:29:32.761118",
   "version": "2.6.0"
  }
 },
 "nbformat": 4,
 "nbformat_minor": 5
}
